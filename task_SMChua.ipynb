{
 "cells": [
  {
   "attachments": {},
   "cell_type": "markdown",
   "metadata": {},
   "source": [
    "# Research Data Scientist Interview Task\n",
    "**Author: Shi Min Chua**  \n",
    "## Description\n",
    "The analysis explores the variation within the Reppada Language in relation to several demographic variables. Specifically, it examines how Reppada speakers use the term \"day\" in nine forms of the genitive plural. \n",
    "\n",
    "The notebook consists of the following sections:\n",
    "1. [Data pre-processing](#Data-pre-processing): To structure data for analysis.\n",
    "2. [Descriptive analysis](#Descriptive-analysis): To have an overview of each variable.\n",
    "3. [Visualisation & Tabulation](#Visualisation): A descriptive analysis of the relationship between the demographic variables and usage of forms.\n",
    "4. [Logistic regression](#logistic-regression): To examine the relationship between the demographic variables and the usage of the various ofrms of the term 'day'.\n",
    "5. [Steps to ensure FAIR open research principles](#steps-to-ensure-fair-open-research-principles): My responses to the question. \n",
    "\n",
    "The analysis procedure and the code can also be applied to other similar datasets, with the note regarding how to use it documenting alongside the code, typically starting with #.\n",
    "\n",
    "There are subsections within each section, including observation about the analysis that is only applicable for the current datasets. The rationale of conducting each analysis is also explained along. \n",
    "\n",
    "## Requirement\n",
    "The analysis and visualisation is conducted by using Python, and the following libraries:\n",
    "1. Matplotlib\n",
    "2. Pandas\n",
    "3. Numpy\n",
    "4. Statsmodels\n",
    "5. Scipy  \n",
    "\n",
    "\n",
    "If you do not have the libraries installed in your computer, you could install them by running the first code cell right after this. The cell states Installing library. Just delete the # in front of the command %pip install. You only need to install once.\n",
    "  \n",
    "## Input Data\n",
    "Two input data files are required for this analysis and they are saved in Microsoft Excel. The current datasets are provided by the Recruitment Team of IT Services, The University of Sheffield.\n",
    "\n",
    "**Table 1**  \n",
    "This file contains demographic characteristics of the speakers in six columns in the following order:  \n",
    "1. Speakers: The speaker id is expressed in the format \"Cases\\\\\\\\Speakers\\\\\\\\B10\" where B10 is the id.  \n",
    "2. Religion: The religion is expressed in text \\(string\\), for example \"Skotadi\"\n",
    "3. Gender: The gender is expressed in text\\(string\\), for example \"Male\" \n",
    "4. Age: The age is expressed in number\\(integer\\), for example \"53\" \n",
    "5. Length of interview: The length of interview is expressed in number\\(integer\\), according to this scheme:  \n",
    ">1 =less 30 min, 2 = 30 min to 1 hour,3=1 hour to 2 hours, 4=over two hours \n",
    "\n",
    "6. Village: The village is expressed in text\\(string\\), for example \"Bonriki\"   \n",
    "\n",
    " \n",
    "\n",
    "**Table 2**  \n",
    "The file contains the number of times each speaker used each form of the genitive plural, with the first column Nid referring to the speaker id, for example B10. The rest of the columns are the number of each form of variation recorded, with the last column being the total number. \n"
   ]
  },
  {
   "cell_type": "code",
   "execution_count": 124,
   "metadata": {},
   "outputs": [],
   "source": [
    "#Install required libraries\n",
    "#%pip install matplotlib\n",
    "#%pip install panda\n",
    "#%pip install numpy\n",
    "#%pip install statsmodels\n",
    "#%pip install scipy \n"
   ]
  },
  {
   "cell_type": "code",
   "execution_count": 125,
   "metadata": {},
   "outputs": [],
   "source": [
    "#Import required libraries\n",
    "import numpy as np\n",
    "import matplotlib.pyplot as plt\n",
    "import pandas as pd\n",
    "from scipy import stats\n",
    "import statsmodels.formula.api as smf"
   ]
  },
  {
   "cell_type": "code",
   "execution_count": 126,
   "metadata": {},
   "outputs": [],
   "source": [
    "# This is to hide warnings from the program. If you would like to see the warnings, just do not run it. \n",
    "import warnings\n",
    "warnings.filterwarnings('ignore')"
   ]
  },
  {
   "attachments": {},
   "cell_type": "markdown",
   "metadata": {},
   "source": [
    "## Data pre-processing\n",
    "In this step, we load the two data files and merge them into one, rename some columns and check for any missing values. To apply the same procedure to other datasets, please ensure the input data is structured as described above. "
   ]
  },
  {
   "cell_type": "code",
   "execution_count": 127,
   "metadata": {},
   "outputs": [],
   "source": [
    "#Read data\n",
    "#The input data files Table 1 and Table 2 must be in the same folder as this jupyter notebook. \n",
    "#You could name your files differently. Do remember to change the filename in the following code accordingly. \n",
    "demographic = pd.read_excel(\"Table 1.xlsx\")\n",
    "declensions = pd.read_excel(\"Table 2.xlsx\")"
   ]
  },
  {
   "cell_type": "code",
   "execution_count": 128,
   "metadata": {},
   "outputs": [
    {
     "data": {
      "text/html": [
       "<div>\n",
       "<style scoped>\n",
       "    .dataframe tbody tr th:only-of-type {\n",
       "        vertical-align: middle;\n",
       "    }\n",
       "\n",
       "    .dataframe tbody tr th {\n",
       "        vertical-align: top;\n",
       "    }\n",
       "\n",
       "    .dataframe thead th {\n",
       "        text-align: right;\n",
       "    }\n",
       "</style>\n",
       "<table border=\"1\" class=\"dataframe\">\n",
       "  <thead>\n",
       "    <tr style=\"text-align: right;\">\n",
       "      <th></th>\n",
       "      <th>Speaker</th>\n",
       "      <th>Religion</th>\n",
       "      <th>Gender</th>\n",
       "      <th>Age</th>\n",
       "      <th>Length of interview ( 1 =less 30 min, 2 = 30 min to 1 hour,3=1 hour to 2 hours, 4=over two hours)</th>\n",
       "      <th>Village</th>\n",
       "    </tr>\n",
       "  </thead>\n",
       "  <tbody>\n",
       "    <tr>\n",
       "      <th>0</th>\n",
       "      <td>Cases\\\\Speakers\\\\B10</td>\n",
       "      <td>Skotadi</td>\n",
       "      <td>Male</td>\n",
       "      <td>53</td>\n",
       "      <td>2</td>\n",
       "      <td>Bonriki</td>\n",
       "    </tr>\n",
       "    <tr>\n",
       "      <th>1</th>\n",
       "      <td>Cases\\\\Speakers\\\\B11</td>\n",
       "      <td>Drepadian</td>\n",
       "      <td>Female</td>\n",
       "      <td>51</td>\n",
       "      <td>1</td>\n",
       "      <td>Bonriki</td>\n",
       "    </tr>\n",
       "    <tr>\n",
       "      <th>2</th>\n",
       "      <td>Cases\\\\Speakers\\\\B12</td>\n",
       "      <td>Drepadian</td>\n",
       "      <td>Male</td>\n",
       "      <td>60</td>\n",
       "      <td>2</td>\n",
       "      <td>Bonriki</td>\n",
       "    </tr>\n",
       "    <tr>\n",
       "      <th>3</th>\n",
       "      <td>Cases\\\\Speakers\\\\B13</td>\n",
       "      <td>Thalassic</td>\n",
       "      <td>Male</td>\n",
       "      <td>45</td>\n",
       "      <td>2</td>\n",
       "      <td>Bonriki</td>\n",
       "    </tr>\n",
       "    <tr>\n",
       "      <th>4</th>\n",
       "      <td>Cases\\\\Speakers\\\\B14</td>\n",
       "      <td>Thalassic</td>\n",
       "      <td>Male</td>\n",
       "      <td>48</td>\n",
       "      <td>2</td>\n",
       "      <td>Bonriki</td>\n",
       "    </tr>\n",
       "  </tbody>\n",
       "</table>\n",
       "</div>"
      ],
      "text/plain": [
       "                Speaker   Religion  Gender  Age  \\\n",
       "0  Cases\\\\Speakers\\\\B10    Skotadi    Male   53   \n",
       "1  Cases\\\\Speakers\\\\B11  Drepadian  Female   51   \n",
       "2  Cases\\\\Speakers\\\\B12  Drepadian    Male   60   \n",
       "3  Cases\\\\Speakers\\\\B13  Thalassic    Male   45   \n",
       "4  Cases\\\\Speakers\\\\B14  Thalassic    Male   48   \n",
       "\n",
       "   Length of interview ( 1 =less 30 min, 2 = 30 min to 1 hour,3=1 hour to 2 hours, 4=over two hours)  \\\n",
       "0                                                  2                                                   \n",
       "1                                                  1                                                   \n",
       "2                                                  2                                                   \n",
       "3                                                  2                                                   \n",
       "4                                                  2                                                   \n",
       "\n",
       "   Village  \n",
       "0  Bonriki  \n",
       "1  Bonriki  \n",
       "2  Bonriki  \n",
       "3  Bonriki  \n",
       "4  Bonriki  "
      ]
     },
     "execution_count": 128,
     "metadata": {},
     "output_type": "execute_result"
    }
   ],
   "source": [
    "#Inspect the demographic data by looking at the top 5 rows to ensure the data is properly loaded.\n",
    "demographic.head()"
   ]
  },
  {
   "cell_type": "code",
   "execution_count": 129,
   "metadata": {},
   "outputs": [
    {
     "data": {
      "text/html": [
       "<div>\n",
       "<style scoped>\n",
       "    .dataframe tbody tr th:only-of-type {\n",
       "        vertical-align: middle;\n",
       "    }\n",
       "\n",
       "    .dataframe tbody tr th {\n",
       "        vertical-align: top;\n",
       "    }\n",
       "\n",
       "    .dataframe thead th {\n",
       "        text-align: right;\n",
       "    }\n",
       "</style>\n",
       "<table border=\"1\" class=\"dataframe\">\n",
       "  <thead>\n",
       "    <tr style=\"text-align: right;\">\n",
       "      <th></th>\n",
       "      <th>Nid</th>\n",
       "      <th>A7</th>\n",
       "      <th>B7</th>\n",
       "      <th>C7</th>\n",
       "      <th>D7</th>\n",
       "      <th>E7</th>\n",
       "      <th>F7</th>\n",
       "      <th>G7</th>\n",
       "      <th>H7</th>\n",
       "      <th>I7</th>\n",
       "      <th>Total</th>\n",
       "    </tr>\n",
       "  </thead>\n",
       "  <tbody>\n",
       "    <tr>\n",
       "      <th>0</th>\n",
       "      <td>B10</td>\n",
       "      <td>2</td>\n",
       "      <td>2</td>\n",
       "      <td>0</td>\n",
       "      <td>0</td>\n",
       "      <td>0</td>\n",
       "      <td>0</td>\n",
       "      <td>0</td>\n",
       "      <td>0</td>\n",
       "      <td>0</td>\n",
       "      <td>4</td>\n",
       "    </tr>\n",
       "    <tr>\n",
       "      <th>1</th>\n",
       "      <td>B11</td>\n",
       "      <td>0</td>\n",
       "      <td>0</td>\n",
       "      <td>0</td>\n",
       "      <td>0</td>\n",
       "      <td>0</td>\n",
       "      <td>0</td>\n",
       "      <td>0</td>\n",
       "      <td>0</td>\n",
       "      <td>0</td>\n",
       "      <td>0</td>\n",
       "    </tr>\n",
       "    <tr>\n",
       "      <th>2</th>\n",
       "      <td>B12</td>\n",
       "      <td>0</td>\n",
       "      <td>0</td>\n",
       "      <td>0</td>\n",
       "      <td>0</td>\n",
       "      <td>0</td>\n",
       "      <td>0</td>\n",
       "      <td>0</td>\n",
       "      <td>0</td>\n",
       "      <td>0</td>\n",
       "      <td>0</td>\n",
       "    </tr>\n",
       "    <tr>\n",
       "      <th>3</th>\n",
       "      <td>B13</td>\n",
       "      <td>0</td>\n",
       "      <td>0</td>\n",
       "      <td>0</td>\n",
       "      <td>0</td>\n",
       "      <td>0</td>\n",
       "      <td>0</td>\n",
       "      <td>0</td>\n",
       "      <td>0</td>\n",
       "      <td>0</td>\n",
       "      <td>0</td>\n",
       "    </tr>\n",
       "    <tr>\n",
       "      <th>4</th>\n",
       "      <td>B14</td>\n",
       "      <td>1</td>\n",
       "      <td>1</td>\n",
       "      <td>0</td>\n",
       "      <td>0</td>\n",
       "      <td>0</td>\n",
       "      <td>0</td>\n",
       "      <td>0</td>\n",
       "      <td>0</td>\n",
       "      <td>0</td>\n",
       "      <td>2</td>\n",
       "    </tr>\n",
       "  </tbody>\n",
       "</table>\n",
       "</div>"
      ],
      "text/plain": [
       "   Nid  A7  B7  C7  D7  E7  F7  G7  H7  I7  Total\n",
       "0  B10   2   2   0   0   0   0   0   0   0      4\n",
       "1  B11   0   0   0   0   0   0   0   0   0      0\n",
       "2  B12   0   0   0   0   0   0   0   0   0      0\n",
       "3  B13   0   0   0   0   0   0   0   0   0      0\n",
       "4  B14   1   1   0   0   0   0   0   0   0      2"
      ]
     },
     "execution_count": 129,
     "metadata": {},
     "output_type": "execute_result"
    }
   ],
   "source": [
    "#Inspect the declensions data by looking at the top 5 rows to ensure the data is properly loaded.\n",
    "declensions.head()"
   ]
  },
  {
   "cell_type": "code",
   "execution_count": 130,
   "metadata": {},
   "outputs": [
    {
     "data": {
      "text/html": [
       "<div>\n",
       "<style scoped>\n",
       "    .dataframe tbody tr th:only-of-type {\n",
       "        vertical-align: middle;\n",
       "    }\n",
       "\n",
       "    .dataframe tbody tr th {\n",
       "        vertical-align: top;\n",
       "    }\n",
       "\n",
       "    .dataframe thead th {\n",
       "        text-align: right;\n",
       "    }\n",
       "</style>\n",
       "<table border=\"1\" class=\"dataframe\">\n",
       "  <thead>\n",
       "    <tr style=\"text-align: right;\">\n",
       "      <th></th>\n",
       "      <th>Speaker</th>\n",
       "      <th>Religion</th>\n",
       "      <th>Gender</th>\n",
       "      <th>Age</th>\n",
       "      <th>Length of interview ( 1 =less 30 min, 2 = 30 min to 1 hour,3=1 hour to 2 hours, 4=over two hours)</th>\n",
       "      <th>Village</th>\n",
       "    </tr>\n",
       "  </thead>\n",
       "  <tbody>\n",
       "    <tr>\n",
       "      <th>0</th>\n",
       "      <td>B10</td>\n",
       "      <td>Skotadi</td>\n",
       "      <td>Male</td>\n",
       "      <td>53</td>\n",
       "      <td>2</td>\n",
       "      <td>Bonriki</td>\n",
       "    </tr>\n",
       "    <tr>\n",
       "      <th>1</th>\n",
       "      <td>B11</td>\n",
       "      <td>Drepadian</td>\n",
       "      <td>Female</td>\n",
       "      <td>51</td>\n",
       "      <td>1</td>\n",
       "      <td>Bonriki</td>\n",
       "    </tr>\n",
       "    <tr>\n",
       "      <th>2</th>\n",
       "      <td>B12</td>\n",
       "      <td>Drepadian</td>\n",
       "      <td>Male</td>\n",
       "      <td>60</td>\n",
       "      <td>2</td>\n",
       "      <td>Bonriki</td>\n",
       "    </tr>\n",
       "    <tr>\n",
       "      <th>3</th>\n",
       "      <td>B13</td>\n",
       "      <td>Thalassic</td>\n",
       "      <td>Male</td>\n",
       "      <td>45</td>\n",
       "      <td>2</td>\n",
       "      <td>Bonriki</td>\n",
       "    </tr>\n",
       "    <tr>\n",
       "      <th>4</th>\n",
       "      <td>B14</td>\n",
       "      <td>Thalassic</td>\n",
       "      <td>Male</td>\n",
       "      <td>48</td>\n",
       "      <td>2</td>\n",
       "      <td>Bonriki</td>\n",
       "    </tr>\n",
       "  </tbody>\n",
       "</table>\n",
       "</div>"
      ],
      "text/plain": [
       "  Speaker   Religion  Gender  Age  \\\n",
       "0     B10    Skotadi    Male   53   \n",
       "1     B11  Drepadian  Female   51   \n",
       "2     B12  Drepadian    Male   60   \n",
       "3     B13  Thalassic    Male   45   \n",
       "4     B14  Thalassic    Male   48   \n",
       "\n",
       "   Length of interview ( 1 =less 30 min, 2 = 30 min to 1 hour,3=1 hour to 2 hours, 4=over two hours)  \\\n",
       "0                                                  2                                                   \n",
       "1                                                  1                                                   \n",
       "2                                                  2                                                   \n",
       "3                                                  2                                                   \n",
       "4                                                  2                                                   \n",
       "\n",
       "   Village  \n",
       "0  Bonriki  \n",
       "1  Bonriki  \n",
       "2  Bonriki  \n",
       "3  Bonriki  \n",
       "4  Bonriki  "
      ]
     },
     "execution_count": 130,
     "metadata": {},
     "output_type": "execute_result"
    }
   ],
   "source": [
    "#Recode the speaker column in demographic so that it correspond to the Nid column in the declencions dataset. \n",
    "#For example, Cases\\\\Speakers\\\\B10 is transformed to B10 by removing Casses\\\\Speakers\\\\\n",
    "#If your input dataset used the same ID structure, then you do not need to run this step.\n",
    "demographic.replace(r'Cases\\\\\\\\Speakers\\\\\\\\',\"\", regex = True,inplace=True)\n",
    "demographic.head()"
   ]
  },
  {
   "cell_type": "code",
   "execution_count": 131,
   "metadata": {},
   "outputs": [
    {
     "name": "stdout",
     "output_type": "stream",
     "text": [
      "The data contains 62 rows (participants) and 15 columns (variables)\n"
     ]
    },
    {
     "data": {
      "text/html": [
       "<div>\n",
       "<style scoped>\n",
       "    .dataframe tbody tr th:only-of-type {\n",
       "        vertical-align: middle;\n",
       "    }\n",
       "\n",
       "    .dataframe tbody tr th {\n",
       "        vertical-align: top;\n",
       "    }\n",
       "\n",
       "    .dataframe thead th {\n",
       "        text-align: right;\n",
       "    }\n",
       "</style>\n",
       "<table border=\"1\" class=\"dataframe\">\n",
       "  <thead>\n",
       "    <tr style=\"text-align: right;\">\n",
       "      <th></th>\n",
       "      <th>Religion</th>\n",
       "      <th>Gender</th>\n",
       "      <th>Age</th>\n",
       "      <th>Length of interview ( 1 =less 30 min, 2 = 30 min to 1 hour,3=1 hour to 2 hours, 4=over two hours)</th>\n",
       "      <th>Village</th>\n",
       "      <th>A7</th>\n",
       "      <th>B7</th>\n",
       "      <th>C7</th>\n",
       "      <th>D7</th>\n",
       "      <th>E7</th>\n",
       "      <th>F7</th>\n",
       "      <th>G7</th>\n",
       "      <th>H7</th>\n",
       "      <th>I7</th>\n",
       "      <th>Total</th>\n",
       "    </tr>\n",
       "    <tr>\n",
       "      <th>Nid</th>\n",
       "      <th></th>\n",
       "      <th></th>\n",
       "      <th></th>\n",
       "      <th></th>\n",
       "      <th></th>\n",
       "      <th></th>\n",
       "      <th></th>\n",
       "      <th></th>\n",
       "      <th></th>\n",
       "      <th></th>\n",
       "      <th></th>\n",
       "      <th></th>\n",
       "      <th></th>\n",
       "      <th></th>\n",
       "      <th></th>\n",
       "    </tr>\n",
       "  </thead>\n",
       "  <tbody>\n",
       "    <tr>\n",
       "      <th>B10</th>\n",
       "      <td>Skotadi</td>\n",
       "      <td>Male</td>\n",
       "      <td>53</td>\n",
       "      <td>2</td>\n",
       "      <td>Bonriki</td>\n",
       "      <td>2</td>\n",
       "      <td>2</td>\n",
       "      <td>0</td>\n",
       "      <td>0</td>\n",
       "      <td>0</td>\n",
       "      <td>0</td>\n",
       "      <td>0</td>\n",
       "      <td>0</td>\n",
       "      <td>0</td>\n",
       "      <td>4</td>\n",
       "    </tr>\n",
       "    <tr>\n",
       "      <th>B11</th>\n",
       "      <td>Drepadian</td>\n",
       "      <td>Female</td>\n",
       "      <td>51</td>\n",
       "      <td>1</td>\n",
       "      <td>Bonriki</td>\n",
       "      <td>0</td>\n",
       "      <td>0</td>\n",
       "      <td>0</td>\n",
       "      <td>0</td>\n",
       "      <td>0</td>\n",
       "      <td>0</td>\n",
       "      <td>0</td>\n",
       "      <td>0</td>\n",
       "      <td>0</td>\n",
       "      <td>0</td>\n",
       "    </tr>\n",
       "    <tr>\n",
       "      <th>B12</th>\n",
       "      <td>Drepadian</td>\n",
       "      <td>Male</td>\n",
       "      <td>60</td>\n",
       "      <td>2</td>\n",
       "      <td>Bonriki</td>\n",
       "      <td>0</td>\n",
       "      <td>0</td>\n",
       "      <td>0</td>\n",
       "      <td>0</td>\n",
       "      <td>0</td>\n",
       "      <td>0</td>\n",
       "      <td>0</td>\n",
       "      <td>0</td>\n",
       "      <td>0</td>\n",
       "      <td>0</td>\n",
       "    </tr>\n",
       "    <tr>\n",
       "      <th>B13</th>\n",
       "      <td>Thalassic</td>\n",
       "      <td>Male</td>\n",
       "      <td>45</td>\n",
       "      <td>2</td>\n",
       "      <td>Bonriki</td>\n",
       "      <td>0</td>\n",
       "      <td>0</td>\n",
       "      <td>0</td>\n",
       "      <td>0</td>\n",
       "      <td>0</td>\n",
       "      <td>0</td>\n",
       "      <td>0</td>\n",
       "      <td>0</td>\n",
       "      <td>0</td>\n",
       "      <td>0</td>\n",
       "    </tr>\n",
       "    <tr>\n",
       "      <th>B14</th>\n",
       "      <td>Thalassic</td>\n",
       "      <td>Male</td>\n",
       "      <td>48</td>\n",
       "      <td>2</td>\n",
       "      <td>Bonriki</td>\n",
       "      <td>1</td>\n",
       "      <td>1</td>\n",
       "      <td>0</td>\n",
       "      <td>0</td>\n",
       "      <td>0</td>\n",
       "      <td>0</td>\n",
       "      <td>0</td>\n",
       "      <td>0</td>\n",
       "      <td>0</td>\n",
       "      <td>2</td>\n",
       "    </tr>\n",
       "  </tbody>\n",
       "</table>\n",
       "</div>"
      ],
      "text/plain": [
       "      Religion  Gender  Age  \\\n",
       "Nid                           \n",
       "B10    Skotadi    Male   53   \n",
       "B11  Drepadian  Female   51   \n",
       "B12  Drepadian    Male   60   \n",
       "B13  Thalassic    Male   45   \n",
       "B14  Thalassic    Male   48   \n",
       "\n",
       "     Length of interview ( 1 =less 30 min, 2 = 30 min to 1 hour,3=1 hour to 2 hours, 4=over two hours)  \\\n",
       "Nid                                                                                                      \n",
       "B10                                                  2                                                   \n",
       "B11                                                  1                                                   \n",
       "B12                                                  2                                                   \n",
       "B13                                                  2                                                   \n",
       "B14                                                  2                                                   \n",
       "\n",
       "     Village  A7  B7  C7  D7  E7  F7  G7  H7  I7  Total  \n",
       "Nid                                                      \n",
       "B10  Bonriki   2   2   0   0   0   0   0   0   0      4  \n",
       "B11  Bonriki   0   0   0   0   0   0   0   0   0      0  \n",
       "B12  Bonriki   0   0   0   0   0   0   0   0   0      0  \n",
       "B13  Bonriki   0   0   0   0   0   0   0   0   0      0  \n",
       "B14  Bonriki   1   1   0   0   0   0   0   0   0      2  "
      ]
     },
     "execution_count": 131,
     "metadata": {},
     "output_type": "execute_result"
    }
   ],
   "source": [
    "#Merging the two datasets\n",
    "merged_df = pd.merge (demographic, declensions, left_on = 'Speaker', right_on = 'Nid')\n",
    "merged_df.head()\n",
    "#Remove Speaker column from the dataset since Nid referring to the same\n",
    "merged_df.drop(columns=[\"Speaker\"], inplace=True)\n",
    "#Set Nid column as the index of the data\n",
    "merged_df.set_index('Nid',inplace=True)\n",
    "#The resulting dataset dimension, where the number of rows indicating number of participants, number of columns indicating number of variables. \n",
    "print(f\"The data contains {merged_df.shape[0]} rows (participants) and {merged_df.shape[1]} columns (variables)\")\n",
    "#Show the first 5 rows of data to inspect if the data is correctly merged. \n",
    "merged_df.head()"
   ]
  },
  {
   "cell_type": "code",
   "execution_count": 132,
   "metadata": {},
   "outputs": [],
   "source": [
    "#Shorten the variable name for length of interview so that we could use the column more easily rather than typing so many words when we need to use the column. \n",
    "merged_df.rename(columns = {'Length of interview ( 1 =less 30 min, 2 = 30 min to 1 hour,3=1 hour to 2 hours, 4=over two hours)':'Interview_Length'}, inplace = True)\n"
   ]
  },
  {
   "cell_type": "code",
   "execution_count": 133,
   "metadata": {},
   "outputs": [
    {
     "data": {
      "text/plain": [
       "Religion            0\n",
       "Gender              0\n",
       "Age                 0\n",
       "Interview_Length    0\n",
       "Village             0\n",
       "A7                  0\n",
       "B7                  0\n",
       "C7                  0\n",
       "D7                  0\n",
       "E7                  0\n",
       "F7                  0\n",
       "G7                  0\n",
       "H7                  0\n",
       "I7                  0\n",
       "Total               0\n",
       "dtype: int64"
      ]
     },
     "execution_count": 133,
     "metadata": {},
     "output_type": "execute_result"
    }
   ],
   "source": [
    "#Checking for missing data, if the sum is not equal to zero, there are missing values, and we would have to check the data before proceeding.\n",
    "merged_df.isna().sum()"
   ]
  },
  {
   "attachments": {},
   "cell_type": "markdown",
   "metadata": {},
   "source": [
    "## Descriptive analysis\n",
    "In this section, we first run a few descriptive analysis to examine the data distribution of each variable respectively to get an overview of the data. The analysis also helps us to spot any unusual data, including missing values that are not coded as such or any outliers, that is data that are far smaller or larger than the other data points. Admittedly, the current dataset is relatively small such that eyeballing the data would have reached the same overview as the descriptive analysis. However, this code can become useful when the researchers collect more data and have a larger dataset in the future when eyeballing the data is not possible. "
   ]
  },
  {
   "cell_type": "code",
   "execution_count": 134,
   "metadata": {},
   "outputs": [
    {
     "data": {
      "text/html": [
       "<div>\n",
       "<style scoped>\n",
       "    .dataframe tbody tr th:only-of-type {\n",
       "        vertical-align: middle;\n",
       "    }\n",
       "\n",
       "    .dataframe tbody tr th {\n",
       "        vertical-align: top;\n",
       "    }\n",
       "\n",
       "    .dataframe thead th {\n",
       "        text-align: right;\n",
       "    }\n",
       "</style>\n",
       "<table border=\"1\" class=\"dataframe\">\n",
       "  <thead>\n",
       "    <tr style=\"text-align: right;\">\n",
       "      <th></th>\n",
       "      <th>Age</th>\n",
       "      <th>Interview_Length</th>\n",
       "      <th>A7</th>\n",
       "      <th>B7</th>\n",
       "      <th>C7</th>\n",
       "      <th>D7</th>\n",
       "      <th>E7</th>\n",
       "      <th>F7</th>\n",
       "      <th>G7</th>\n",
       "      <th>H7</th>\n",
       "      <th>I7</th>\n",
       "      <th>Total</th>\n",
       "    </tr>\n",
       "  </thead>\n",
       "  <tbody>\n",
       "    <tr>\n",
       "      <th>count</th>\n",
       "      <td>62.000000</td>\n",
       "      <td>62.000000</td>\n",
       "      <td>62.000000</td>\n",
       "      <td>62.000000</td>\n",
       "      <td>62.000000</td>\n",
       "      <td>62.000000</td>\n",
       "      <td>62.000000</td>\n",
       "      <td>62.000000</td>\n",
       "      <td>62.000000</td>\n",
       "      <td>62.000000</td>\n",
       "      <td>62.000000</td>\n",
       "      <td>62.000000</td>\n",
       "    </tr>\n",
       "    <tr>\n",
       "      <th>mean</th>\n",
       "      <td>60.806452</td>\n",
       "      <td>2.467742</td>\n",
       "      <td>1.580645</td>\n",
       "      <td>0.516129</td>\n",
       "      <td>0.032258</td>\n",
       "      <td>0.016129</td>\n",
       "      <td>0.741935</td>\n",
       "      <td>0.032258</td>\n",
       "      <td>0.145161</td>\n",
       "      <td>0.080645</td>\n",
       "      <td>0.016129</td>\n",
       "      <td>3.161290</td>\n",
       "    </tr>\n",
       "    <tr>\n",
       "      <th>std</th>\n",
       "      <td>13.048257</td>\n",
       "      <td>0.953299</td>\n",
       "      <td>2.767187</td>\n",
       "      <td>1.112403</td>\n",
       "      <td>0.178127</td>\n",
       "      <td>0.127000</td>\n",
       "      <td>1.726700</td>\n",
       "      <td>0.254000</td>\n",
       "      <td>0.473798</td>\n",
       "      <td>0.454428</td>\n",
       "      <td>0.127000</td>\n",
       "      <td>5.534374</td>\n",
       "    </tr>\n",
       "    <tr>\n",
       "      <th>min</th>\n",
       "      <td>30.000000</td>\n",
       "      <td>1.000000</td>\n",
       "      <td>0.000000</td>\n",
       "      <td>0.000000</td>\n",
       "      <td>0.000000</td>\n",
       "      <td>0.000000</td>\n",
       "      <td>0.000000</td>\n",
       "      <td>0.000000</td>\n",
       "      <td>0.000000</td>\n",
       "      <td>0.000000</td>\n",
       "      <td>0.000000</td>\n",
       "      <td>0.000000</td>\n",
       "    </tr>\n",
       "    <tr>\n",
       "      <th>25%</th>\n",
       "      <td>52.000000</td>\n",
       "      <td>2.000000</td>\n",
       "      <td>0.000000</td>\n",
       "      <td>0.000000</td>\n",
       "      <td>0.000000</td>\n",
       "      <td>0.000000</td>\n",
       "      <td>0.000000</td>\n",
       "      <td>0.000000</td>\n",
       "      <td>0.000000</td>\n",
       "      <td>0.000000</td>\n",
       "      <td>0.000000</td>\n",
       "      <td>0.000000</td>\n",
       "    </tr>\n",
       "    <tr>\n",
       "      <th>50%</th>\n",
       "      <td>64.000000</td>\n",
       "      <td>2.000000</td>\n",
       "      <td>0.000000</td>\n",
       "      <td>0.000000</td>\n",
       "      <td>0.000000</td>\n",
       "      <td>0.000000</td>\n",
       "      <td>0.000000</td>\n",
       "      <td>0.000000</td>\n",
       "      <td>0.000000</td>\n",
       "      <td>0.000000</td>\n",
       "      <td>0.000000</td>\n",
       "      <td>0.000000</td>\n",
       "    </tr>\n",
       "    <tr>\n",
       "      <th>75%</th>\n",
       "      <td>71.000000</td>\n",
       "      <td>3.000000</td>\n",
       "      <td>2.000000</td>\n",
       "      <td>0.750000</td>\n",
       "      <td>0.000000</td>\n",
       "      <td>0.000000</td>\n",
       "      <td>1.000000</td>\n",
       "      <td>0.000000</td>\n",
       "      <td>0.000000</td>\n",
       "      <td>0.000000</td>\n",
       "      <td>0.000000</td>\n",
       "      <td>4.000000</td>\n",
       "    </tr>\n",
       "    <tr>\n",
       "      <th>max</th>\n",
       "      <td>80.000000</td>\n",
       "      <td>4.000000</td>\n",
       "      <td>14.000000</td>\n",
       "      <td>5.000000</td>\n",
       "      <td>1.000000</td>\n",
       "      <td>1.000000</td>\n",
       "      <td>8.000000</td>\n",
       "      <td>2.000000</td>\n",
       "      <td>3.000000</td>\n",
       "      <td>3.000000</td>\n",
       "      <td>1.000000</td>\n",
       "      <td>28.000000</td>\n",
       "    </tr>\n",
       "  </tbody>\n",
       "</table>\n",
       "</div>"
      ],
      "text/plain": [
       "             Age  Interview_Length         A7         B7         C7  \\\n",
       "count  62.000000         62.000000  62.000000  62.000000  62.000000   \n",
       "mean   60.806452          2.467742   1.580645   0.516129   0.032258   \n",
       "std    13.048257          0.953299   2.767187   1.112403   0.178127   \n",
       "min    30.000000          1.000000   0.000000   0.000000   0.000000   \n",
       "25%    52.000000          2.000000   0.000000   0.000000   0.000000   \n",
       "50%    64.000000          2.000000   0.000000   0.000000   0.000000   \n",
       "75%    71.000000          3.000000   2.000000   0.750000   0.000000   \n",
       "max    80.000000          4.000000  14.000000   5.000000   1.000000   \n",
       "\n",
       "              D7         E7         F7         G7         H7         I7  \\\n",
       "count  62.000000  62.000000  62.000000  62.000000  62.000000  62.000000   \n",
       "mean    0.016129   0.741935   0.032258   0.145161   0.080645   0.016129   \n",
       "std     0.127000   1.726700   0.254000   0.473798   0.454428   0.127000   \n",
       "min     0.000000   0.000000   0.000000   0.000000   0.000000   0.000000   \n",
       "25%     0.000000   0.000000   0.000000   0.000000   0.000000   0.000000   \n",
       "50%     0.000000   0.000000   0.000000   0.000000   0.000000   0.000000   \n",
       "75%     0.000000   1.000000   0.000000   0.000000   0.000000   0.000000   \n",
       "max     1.000000   8.000000   2.000000   3.000000   3.000000   1.000000   \n",
       "\n",
       "           Total  \n",
       "count  62.000000  \n",
       "mean    3.161290  \n",
       "std     5.534374  \n",
       "min     0.000000  \n",
       "25%     0.000000  \n",
       "50%     0.000000  \n",
       "75%     4.000000  \n",
       "max    28.000000  "
      ]
     },
     "execution_count": 134,
     "metadata": {},
     "output_type": "execute_result"
    }
   ],
   "source": [
    "#Overview of the data\n",
    "merged_df.describe()"
   ]
  },
  {
   "attachments": {},
   "cell_type": "markdown",
   "metadata": {},
   "source": [
    "##### Explanation of the output from the above\n",
    "The overview shows several descriptive statistics, with relevant ones described here:\n",
    "1. count: number of data point, indicating the number of participants. In this case, there are 62 of them.\n",
    "2. mean: average number across all participants. In the columns for the various form of declencions, if it is close to zero, it indicates speakers use the form rarely. \n",
    "3. min: minimum number across all participants. In the columns for the various form of declencions, the min is all zero, indicating that for each form,there is participant who never used the form at all. \n",
    "4. max: maximum number across all participants. In the columns for the various form of declencions, it shows the highest number of frequency using each form among the participants. \n",
    "\n",
    "##### Observation: \n",
    "1. The average age of the participants is 60.8 years (range: 30-80), with a standard deviation of 13.05.\n",
    "2. In total, across all the forms, the average number of times \"day\" being used by speakers is 3.16 (standard deviation = 5.53), ranging  from 0 to 28 times.\n",
    "3. The use of the various forms tend be close to zero (50%ile of each form is zero), with only A7 being used more than 1 times on average (1.58).  \n",
    "4. At least one participant uses A7 14 times and E7 8 times during the interview respectively.\n"
   ]
  },
  {
   "attachments": {},
   "cell_type": "markdown",
   "metadata": {},
   "source": [
    "### Demographic Variables\n",
    "We examine the demographic variables for two purposes:\n",
    "1. To understand the background of the speakers who are our participants. It is very important to have detailed informations about participants, so that other researchers could understand the scope and extent of the study, and can plan for replicating the study or compare their findings to the current study.\n",
    "2. To spot any outliers and any potential trends that might be related to the usage of the various forms of the term under investigation."
   ]
  },
  {
   "cell_type": "code",
   "execution_count": 135,
   "metadata": {
    "tags": [
     "parameters"
    ]
   },
   "outputs": [
    {
     "name": "stdout",
     "output_type": "stream",
     "text": [
      "           Count  Proportion\n",
      "Drepadian     30    0.483871\n",
      "Skotadi       25    0.403226\n",
      "Thalassic      7    0.112903\n"
     ]
    }
   ],
   "source": [
    "#Religion\n",
    "Religion = merged_df['Religion'].value_counts().to_frame('Count')\n",
    "Religion['Proportion']=merged_df['Religion'].value_counts(normalize=True).to_frame('Proportion')\n",
    "print(Religion)"
   ]
  },
  {
   "cell_type": "code",
   "execution_count": 136,
   "metadata": {},
   "outputs": [
    {
     "name": "stdout",
     "output_type": "stream",
     "text": [
      "        Count  Proportion\n",
      "Female     43    0.693548\n",
      "Male       19    0.306452\n"
     ]
    }
   ],
   "source": [
    "#Gender\n",
    "Gender = merged_df['Gender'].value_counts().to_frame('Count')\n",
    "Gender['Proportion']=merged_df['Gender'].value_counts(normalize=True).to_frame('Proportion')\n",
    "print(Gender)\n"
   ]
  },
  {
   "cell_type": "code",
   "execution_count": 137,
   "metadata": {},
   "outputs": [
    {
     "name": "stdout",
     "output_type": "stream",
     "text": [
      "    Count  Proportion\n",
      "30      1    0.016129\n",
      "32      1    0.016129\n",
      "36      1    0.016129\n",
      "38      1    0.016129\n",
      "39      1    0.016129\n",
      "40      1    0.016129\n",
      "42      1    0.016129\n",
      "43      2    0.032258\n",
      "45      1    0.016129\n",
      "47      1    0.016129\n",
      "48      1    0.016129\n",
      "49      1    0.016129\n",
      "51      2    0.032258\n",
      "52      2    0.032258\n",
      "53      2    0.032258\n",
      "54      1    0.016129\n",
      "55      1    0.016129\n",
      "56      1    0.016129\n",
      "57      1    0.016129\n",
      "58      1    0.016129\n",
      "59      1    0.016129\n",
      "60      4    0.064516\n",
      "61      1    0.016129\n",
      "64      2    0.032258\n",
      "66      3    0.048387\n",
      "67      2    0.032258\n",
      "68      3    0.048387\n",
      "69      2    0.032258\n",
      "70      3    0.048387\n",
      "71      2    0.032258\n",
      "72      1    0.016129\n",
      "73      4    0.064516\n",
      "75      1    0.016129\n",
      "76      6    0.096774\n",
      "78      1    0.016129\n",
      "79      1    0.016129\n",
      "80      1    0.016129\n"
     ]
    }
   ],
   "source": [
    "#Age\n",
    "Age = merged_df['Age'].value_counts().to_frame('Count')\n",
    "Age['Proportion']=merged_df['Age'].value_counts(normalize=True).to_frame('Proportion')\n",
    "\n",
    "print(Age.sort_index())\n"
   ]
  },
  {
   "cell_type": "code",
   "execution_count": 138,
   "metadata": {},
   "outputs": [
    {
     "data": {
      "text/plain": [
       "(29.999, 40.0]     6\n",
       "(40.0, 50.0]       7\n",
       "(50.0, 60.0]      16\n",
       "(60.0, 70.0]      16\n",
       "(70.0, 80.0]      17\n",
       "Name: Age, dtype: int64"
      ]
     },
     "execution_count": 138,
     "metadata": {},
     "output_type": "execute_result"
    }
   ],
   "source": [
    "#Given the age is a continuous variable and has a huge range of value, we can also aggregate them into different age groups to have another view of the participants' age\n",
    "#Age group:\n",
    "#30-40 -> (29.999, 40.0]\n",
    "#41-50 -> (40.0, 50.0]   \n",
    "#51-60 -> (50.0, 60.0]\n",
    "#61-70 -> (60.0, 70.0] \n",
    "#71-80 -> (70.0, 80.0] \n",
    "merged_df['Age'].value_counts(bins = [30,40,50,60,70,80], sort = False)\n",
    "\n"
   ]
  },
  {
   "attachments": {},
   "cell_type": "markdown",
   "metadata": {},
   "source": [
    "### Observation\n",
    "No missing values are observed in the demographic variables. Thalassic seems to be relatively fewer than the other two religions, while there are more than double female than male in the sample. There are about 20% of the participants aged younger than 51 years old while the rest are older. "
   ]
  },
  {
   "attachments": {},
   "cell_type": "markdown",
   "metadata": {},
   "source": [
    "#### Association among demographic variables\n",
    "On top of examining the demographic variables separately, we also investigate if the variables are associated with each other in the sample, i.e., is it proportionally equal in sample size for each combination of the variables(i.e., each condition/cell). "
   ]
  },
  {
   "cell_type": "code",
   "execution_count": 139,
   "metadata": {},
   "outputs": [
    {
     "data": {
      "text/html": [
       "<div>\n",
       "<style scoped>\n",
       "    .dataframe tbody tr th:only-of-type {\n",
       "        vertical-align: middle;\n",
       "    }\n",
       "\n",
       "    .dataframe tbody tr th {\n",
       "        vertical-align: top;\n",
       "    }\n",
       "\n",
       "    .dataframe thead th {\n",
       "        text-align: right;\n",
       "    }\n",
       "</style>\n",
       "<table border=\"1\" class=\"dataframe\">\n",
       "  <thead>\n",
       "    <tr style=\"text-align: right;\">\n",
       "      <th></th>\n",
       "      <th>Religion</th>\n",
       "      <th>Drepadian</th>\n",
       "      <th>Skotadi</th>\n",
       "      <th>Thalassic</th>\n",
       "    </tr>\n",
       "    <tr>\n",
       "      <th>Village</th>\n",
       "      <th>Gender</th>\n",
       "      <th></th>\n",
       "      <th></th>\n",
       "      <th></th>\n",
       "    </tr>\n",
       "  </thead>\n",
       "  <tbody>\n",
       "    <tr>\n",
       "      <th rowspan=\"2\" valign=\"top\">Bonriki</th>\n",
       "      <th>Female</th>\n",
       "      <td>5</td>\n",
       "      <td>4</td>\n",
       "      <td>4</td>\n",
       "    </tr>\n",
       "    <tr>\n",
       "      <th>Male</th>\n",
       "      <td>3</td>\n",
       "      <td>1</td>\n",
       "      <td>2</td>\n",
       "    </tr>\n",
       "    <tr>\n",
       "      <th>Nawerewere</th>\n",
       "      <th>Female</th>\n",
       "      <td>3</td>\n",
       "      <td>3</td>\n",
       "      <td>0</td>\n",
       "    </tr>\n",
       "    <tr>\n",
       "      <th rowspan=\"2\" valign=\"top\">Rawannawi</th>\n",
       "      <th>Female</th>\n",
       "      <td>8</td>\n",
       "      <td>0</td>\n",
       "      <td>0</td>\n",
       "    </tr>\n",
       "    <tr>\n",
       "      <th>Male</th>\n",
       "      <td>8</td>\n",
       "      <td>0</td>\n",
       "      <td>0</td>\n",
       "    </tr>\n",
       "    <tr>\n",
       "      <th rowspan=\"2\" valign=\"top\">Temaiku</th>\n",
       "      <th>Female</th>\n",
       "      <td>2</td>\n",
       "      <td>14</td>\n",
       "      <td>0</td>\n",
       "    </tr>\n",
       "    <tr>\n",
       "      <th>Male</th>\n",
       "      <td>1</td>\n",
       "      <td>3</td>\n",
       "      <td>1</td>\n",
       "    </tr>\n",
       "  </tbody>\n",
       "</table>\n",
       "</div>"
      ],
      "text/plain": [
       "Religion           Drepadian  Skotadi  Thalassic\n",
       "Village    Gender                               \n",
       "Bonriki    Female          5        4          4\n",
       "           Male            3        1          2\n",
       "Nawerewere Female          3        3          0\n",
       "Rawannawi  Female          8        0          0\n",
       "           Male            8        0          0\n",
       "Temaiku    Female          2       14          0\n",
       "           Male            1        3          1"
      ]
     },
     "execution_count": 139,
     "metadata": {},
     "output_type": "execute_result"
    }
   ],
   "source": [
    "#Tabulate Village, Gender and Religion\n",
    "crosstab_count=pd.crosstab([merged_df['Village'],merged_df['Gender']],merged_df['Religion'])\n",
    "crosstab_count"
   ]
  },
  {
   "cell_type": "code",
   "execution_count": 140,
   "metadata": {},
   "outputs": [
    {
     "data": {
      "text/plain": [
       "Chi2ContingencyResult(statistic=42.77795604395604, pvalue=2.4620179960418185e-05, dof=12, expected_freq=array([[6.29032258, 5.24193548, 1.46774194],\n",
       "       [2.90322581, 2.41935484, 0.67741935],\n",
       "       [2.90322581, 2.41935484, 0.67741935],\n",
       "       [3.87096774, 3.22580645, 0.90322581],\n",
       "       [3.87096774, 3.22580645, 0.90322581],\n",
       "       [7.74193548, 6.4516129 , 1.80645161],\n",
       "       [2.41935484, 2.01612903, 0.56451613]]))"
      ]
     },
     "execution_count": 140,
     "metadata": {},
     "output_type": "execute_result"
    }
   ],
   "source": [
    "#We conduct a chi-square analysis to test if the association is statistically significant . \n",
    "stats.chi2_contingency(crosstab_count)"
   ]
  },
  {
   "attachments": {},
   "cell_type": "markdown",
   "metadata": {},
   "source": [
    "### Observation\n",
    "The sample is not proportionally equal across the different conditions of the demographic variables, as shown by the chi-squared test (p<0.005>). We do not conduct follow up analysis to examine which conditions are not equal because this is not our main research questions. Nonetheless, from the tabulation, we could see some patterns:\n",
    "1. There is no Female from Nawerewere and Temaiku practicing the religion Thalassic.\n",
    "2. Nobody from Rawannawi practicing Skotadi.\n",
    "3. The number of Female from Temaiku practicing Skotadi relatively huge (n=14)\n"
   ]
  },
  {
   "cell_type": "code",
   "execution_count": 141,
   "metadata": {},
   "outputs": [
    {
     "data": {
      "text/html": [
       "<div>\n",
       "<style scoped>\n",
       "    .dataframe tbody tr th:only-of-type {\n",
       "        vertical-align: middle;\n",
       "    }\n",
       "\n",
       "    .dataframe tbody tr th {\n",
       "        vertical-align: top;\n",
       "    }\n",
       "\n",
       "    .dataframe thead tr th {\n",
       "        text-align: left;\n",
       "    }\n",
       "\n",
       "    .dataframe thead tr:last-of-type th {\n",
       "        text-align: right;\n",
       "    }\n",
       "</style>\n",
       "<table border=\"1\" class=\"dataframe\">\n",
       "  <thead>\n",
       "    <tr>\n",
       "      <th></th>\n",
       "      <th></th>\n",
       "      <th colspan=\"3\" halign=\"left\">mean</th>\n",
       "    </tr>\n",
       "    <tr>\n",
       "      <th></th>\n",
       "      <th>Religion</th>\n",
       "      <th>Drepadian</th>\n",
       "      <th>Skotadi</th>\n",
       "      <th>Thalassic</th>\n",
       "    </tr>\n",
       "    <tr>\n",
       "      <th>Village</th>\n",
       "      <th>Gender</th>\n",
       "      <th></th>\n",
       "      <th></th>\n",
       "      <th></th>\n",
       "    </tr>\n",
       "  </thead>\n",
       "  <tbody>\n",
       "    <tr>\n",
       "      <th rowspan=\"2\" valign=\"top\">Bonriki</th>\n",
       "      <th>Female</th>\n",
       "      <td>61.000000</td>\n",
       "      <td>66.750000</td>\n",
       "      <td>57.0</td>\n",
       "    </tr>\n",
       "    <tr>\n",
       "      <th>Male</th>\n",
       "      <td>59.666667</td>\n",
       "      <td>53.000000</td>\n",
       "      <td>46.5</td>\n",
       "    </tr>\n",
       "    <tr>\n",
       "      <th>Nawerewere</th>\n",
       "      <th>Female</th>\n",
       "      <td>56.666667</td>\n",
       "      <td>58.666667</td>\n",
       "      <td>NaN</td>\n",
       "    </tr>\n",
       "    <tr>\n",
       "      <th rowspan=\"2\" valign=\"top\">Rawannawi</th>\n",
       "      <th>Female</th>\n",
       "      <td>58.125000</td>\n",
       "      <td>NaN</td>\n",
       "      <td>NaN</td>\n",
       "    </tr>\n",
       "    <tr>\n",
       "      <th>Male</th>\n",
       "      <td>53.875000</td>\n",
       "      <td>NaN</td>\n",
       "      <td>NaN</td>\n",
       "    </tr>\n",
       "    <tr>\n",
       "      <th rowspan=\"2\" valign=\"top\">Temaiku</th>\n",
       "      <th>Female</th>\n",
       "      <td>63.500000</td>\n",
       "      <td>67.285714</td>\n",
       "      <td>NaN</td>\n",
       "    </tr>\n",
       "    <tr>\n",
       "      <th>Male</th>\n",
       "      <td>66.000000</td>\n",
       "      <td>66.333333</td>\n",
       "      <td>69.0</td>\n",
       "    </tr>\n",
       "  </tbody>\n",
       "</table>\n",
       "</div>"
      ],
      "text/plain": [
       "                        mean                     \n",
       "Religion           Drepadian    Skotadi Thalassic\n",
       "Village    Gender                                \n",
       "Bonriki    Female  61.000000  66.750000      57.0\n",
       "           Male    59.666667  53.000000      46.5\n",
       "Nawerewere Female  56.666667  58.666667       NaN\n",
       "Rawannawi  Female  58.125000        NaN       NaN\n",
       "           Male    53.875000        NaN       NaN\n",
       "Temaiku    Female  63.500000  67.285714       NaN\n",
       "           Male    66.000000  66.333333      69.0"
      ]
     },
     "execution_count": 141,
     "metadata": {},
     "output_type": "execute_result"
    }
   ],
   "source": [
    "#Tabulate Village, Gender and Religion and examine the mean age in each group\n",
    "crosstab_age=pd.crosstab([merged_df['Village'],merged_df['Gender']],merged_df['Religion'],values=merged_df['Age'],aggfunc=[np.mean])\n",
    "crosstab_age"
   ]
  },
  {
   "attachments": {},
   "cell_type": "markdown",
   "metadata": {},
   "source": [
    "### Observation\n",
    "The average age across multiple conditions ranges from 53 to 67, although there is no participant in some conditions and Male Thalassic in the village of Bonriki tend to be younger (46.5 years old) in this sample."
   ]
  },
  {
   "cell_type": "code",
   "execution_count": 142,
   "metadata": {},
   "outputs": [
    {
     "name": "stdout",
     "output_type": "stream",
     "text": [
      "   Count  Proportion\n",
      "1     10    0.161290\n",
      "2     23    0.370968\n",
      "3     19    0.306452\n",
      "4     10    0.161290\n"
     ]
    }
   ],
   "source": [
    "#Length of interview ( 1 =less 30 min, 2 = 30 min to 1 hour,3=1 hour to 2 hours, 4=over two hours)\n",
    "interview_length = merged_df['Interview_Length'].value_counts().to_frame('Count')\n",
    "interview_length['Proportion']=merged_df['Interview_Length'].value_counts(normalize=True).to_frame('Proportion')\n",
    "print(interview_length.sort_index())\n"
   ]
  },
  {
   "attachments": {},
   "cell_type": "markdown",
   "metadata": {},
   "source": [
    "### Observation\n",
    "The length of interview is not a demographic variables. However, it is important to take the length of interview into account when we examine the frequency of occurence of the various form as the longer the interview, the more chance is given to the speakers to use a term. \n",
    "Over half of the interview is conducted between 30 mins to 3 hours.\n",
    "\n",
    "In this sample, over half of the interview is conducted between half an hour to two hours. "
   ]
  },
  {
   "attachments": {},
   "cell_type": "markdown",
   "metadata": {},
   "source": [
    "### Outcome variables - number of occurence of various forms\n",
    "The outcome variables, sometimes also called dependant variables, are the variables of interest and that are considered to be changed in relationship with some predicting variables. The predicting variables in this case are the demographic variables, while the outcome variables are the usage of the various forms of the term under investigation. \n",
    "\n",
    "We have examined the mean, min, max of the number of occurence of the various forms at the start of the descriptive analysis. We now look into more details that will reveal some outliers as well as the distribution of selected forms, so as to inform what kind of analysis is more suitable to examine the relationship between the demographic variables and outcome variables."
   ]
  },
  {
   "cell_type": "code",
   "execution_count": 143,
   "metadata": {},
   "outputs": [
    {
     "data": {
      "text/plain": [
       "0     32\n",
       "2     11\n",
       "4      6\n",
       "6      6\n",
       "12     2\n",
       "16     2\n",
       "22     1\n",
       "8      1\n",
       "28     1\n",
       "Name: Total, dtype: int64"
      ]
     },
     "execution_count": 143,
     "metadata": {},
     "output_type": "execute_result"
    }
   ],
   "source": [
    "#Examine the total number of usage of the various forms of the term 'day' by each speaker\n",
    "merged_df['Total'].value_counts(sort=True)\n",
    "#The left column is the total number of usage. \n",
    "#The right column indicates the number of speakers with the corresponding number of usage.\n",
    "\n"
   ]
  },
  {
   "attachments": {},
   "cell_type": "markdown",
   "metadata": {},
   "source": [
    "### Observation\n",
    "More than half of the participants (n=32) did not use any forms of the term at all during the interview. However, there is one speaker use the various forms for 28 times and another one 22 times. They could be outliers in the data, as they are at least 4 standard deviation from the mean. It would be interesting to investigate their background, and to conduct qualitative analysis on them, if the researchers also have the interview transcript. "
   ]
  },
  {
   "cell_type": "code",
   "execution_count": 144,
   "metadata": {},
   "outputs": [
    {
     "data": {
      "text/html": [
       "<div>\n",
       "<style scoped>\n",
       "    .dataframe tbody tr th:only-of-type {\n",
       "        vertical-align: middle;\n",
       "    }\n",
       "\n",
       "    .dataframe tbody tr th {\n",
       "        vertical-align: top;\n",
       "    }\n",
       "\n",
       "    .dataframe thead th {\n",
       "        text-align: right;\n",
       "    }\n",
       "</style>\n",
       "<table border=\"1\" class=\"dataframe\">\n",
       "  <thead>\n",
       "    <tr style=\"text-align: right;\">\n",
       "      <th></th>\n",
       "      <th>Religion</th>\n",
       "      <th>Gender</th>\n",
       "      <th>Age</th>\n",
       "      <th>Interview_Length</th>\n",
       "      <th>Village</th>\n",
       "      <th>A7</th>\n",
       "      <th>B7</th>\n",
       "      <th>C7</th>\n",
       "      <th>D7</th>\n",
       "      <th>E7</th>\n",
       "      <th>F7</th>\n",
       "      <th>G7</th>\n",
       "      <th>H7</th>\n",
       "      <th>I7</th>\n",
       "      <th>Total</th>\n",
       "    </tr>\n",
       "    <tr>\n",
       "      <th>Nid</th>\n",
       "      <th></th>\n",
       "      <th></th>\n",
       "      <th></th>\n",
       "      <th></th>\n",
       "      <th></th>\n",
       "      <th></th>\n",
       "      <th></th>\n",
       "      <th></th>\n",
       "      <th></th>\n",
       "      <th></th>\n",
       "      <th></th>\n",
       "      <th></th>\n",
       "      <th></th>\n",
       "      <th></th>\n",
       "      <th></th>\n",
       "    </tr>\n",
       "  </thead>\n",
       "  <tbody>\n",
       "    <tr>\n",
       "      <th>Tor1</th>\n",
       "      <td>Skotadi</td>\n",
       "      <td>Female</td>\n",
       "      <td>69</td>\n",
       "      <td>4</td>\n",
       "      <td>Temaiku</td>\n",
       "      <td>14</td>\n",
       "      <td>5</td>\n",
       "      <td>0</td>\n",
       "      <td>0</td>\n",
       "      <td>8</td>\n",
       "      <td>0</td>\n",
       "      <td>1</td>\n",
       "      <td>0</td>\n",
       "      <td>0</td>\n",
       "      <td>28</td>\n",
       "    </tr>\n",
       "  </tbody>\n",
       "</table>\n",
       "</div>"
      ],
      "text/plain": [
       "     Religion  Gender  Age  Interview_Length  Village  A7  B7  C7  D7  E7  F7  \\\n",
       "Nid                                                                             \n",
       "Tor1  Skotadi  Female   69                 4  Temaiku  14   5   0   0   8   0   \n",
       "\n",
       "      G7  H7  I7  Total  \n",
       "Nid                      \n",
       "Tor1   1   0   0     28  "
      ]
     },
     "execution_count": 144,
     "metadata": {},
     "output_type": "execute_result"
    }
   ],
   "source": [
    "# Check the background of the person who has used the term most often in the sample\n",
    "merged_df[merged_df['Total']==np.max(merged_df['Total'])]"
   ]
  },
  {
   "cell_type": "code",
   "execution_count": 145,
   "metadata": {},
   "outputs": [
    {
     "data": {
      "text/html": [
       "<div>\n",
       "<style scoped>\n",
       "    .dataframe tbody tr th:only-of-type {\n",
       "        vertical-align: middle;\n",
       "    }\n",
       "\n",
       "    .dataframe tbody tr th {\n",
       "        vertical-align: top;\n",
       "    }\n",
       "\n",
       "    .dataframe thead th {\n",
       "        text-align: right;\n",
       "    }\n",
       "</style>\n",
       "<table border=\"1\" class=\"dataframe\">\n",
       "  <thead>\n",
       "    <tr style=\"text-align: right;\">\n",
       "      <th></th>\n",
       "      <th>Religion</th>\n",
       "      <th>Gender</th>\n",
       "      <th>Age</th>\n",
       "      <th>Interview_Length</th>\n",
       "      <th>Village</th>\n",
       "      <th>A7</th>\n",
       "      <th>B7</th>\n",
       "      <th>C7</th>\n",
       "      <th>D7</th>\n",
       "      <th>E7</th>\n",
       "      <th>F7</th>\n",
       "      <th>G7</th>\n",
       "      <th>H7</th>\n",
       "      <th>I7</th>\n",
       "      <th>Total</th>\n",
       "    </tr>\n",
       "    <tr>\n",
       "      <th>Nid</th>\n",
       "      <th></th>\n",
       "      <th></th>\n",
       "      <th></th>\n",
       "      <th></th>\n",
       "      <th></th>\n",
       "      <th></th>\n",
       "      <th></th>\n",
       "      <th></th>\n",
       "      <th></th>\n",
       "      <th></th>\n",
       "      <th></th>\n",
       "      <th></th>\n",
       "      <th></th>\n",
       "      <th></th>\n",
       "      <th></th>\n",
       "    </tr>\n",
       "  </thead>\n",
       "  <tbody>\n",
       "    <tr>\n",
       "      <th>RD1</th>\n",
       "      <td>Drepadian</td>\n",
       "      <td>Female</td>\n",
       "      <td>52</td>\n",
       "      <td>3</td>\n",
       "      <td>Rawannawi</td>\n",
       "      <td>11</td>\n",
       "      <td>2</td>\n",
       "      <td>1</td>\n",
       "      <td>0</td>\n",
       "      <td>8</td>\n",
       "      <td>0</td>\n",
       "      <td>0</td>\n",
       "      <td>0</td>\n",
       "      <td>0</td>\n",
       "      <td>22</td>\n",
       "    </tr>\n",
       "  </tbody>\n",
       "</table>\n",
       "</div>"
      ],
      "text/plain": [
       "      Religion  Gender  Age  Interview_Length    Village  A7  B7  C7  D7  E7  \\\n",
       "Nid                                                                            \n",
       "RD1  Drepadian  Female   52                 3  Rawannawi  11   2   1   0   8   \n",
       "\n",
       "     F7  G7  H7  I7  Total  \n",
       "Nid                         \n",
       "RD1   0   0   0   0     22  "
      ]
     },
     "execution_count": 145,
     "metadata": {},
     "output_type": "execute_result"
    }
   ],
   "source": [
    "# Check the background of the person who has used the term second most often. Please plug in the number of times based on the previous table.\n",
    "merged_df[merged_df['Total']==22]"
   ]
  },
  {
   "attachments": {},
   "cell_type": "markdown",
   "metadata": {},
   "source": [
    "### Observation\n",
    "As expected, the person who use 28 times of the term is the one whose interview length is more than 4 hours while the one who use 22 times have undergone an interview between 1 to 2 hours.They both seems to use A7 and E7 forms relatively often. "
   ]
  },
  {
   "cell_type": "code",
   "execution_count": 146,
   "metadata": {},
   "outputs": [
    {
     "data": {
      "text/plain": [
       "A7    98\n",
       "B7    32\n",
       "C7     2\n",
       "D7     1\n",
       "E7    46\n",
       "F7     2\n",
       "G7     9\n",
       "H7     5\n",
       "I7     1\n",
       "dtype: int64"
      ]
     },
     "execution_count": 146,
     "metadata": {},
     "output_type": "execute_result"
    }
   ],
   "source": [
    "#Previously, we have already known that mean number of occurence of each form across all participants is fewer than once during the interview, except A7. We now calculate the sum of number of occurence.\n",
    "merged_df.iloc[:,5:14].sum() \n",
    "#if you have more columns for the outcome variables, you change the number in the square bracket. the first number is the A7 column - 1, the last number is the I7 column - 1\n",
    "#if you are not comfortable with using the number to indicate the column, you can also type the column name, as shown below. Just delete the # in the code. \n",
    "#merged_df[['A7','B7','C7','D7','E7','F7','G7','H7','I7']].sum()"
   ]
  },
  {
   "attachments": {},
   "cell_type": "markdown",
   "metadata": {},
   "source": [
    "### Observation\n",
    "It seems that most forms are rarely used by all the speakers except A7, B7, E7. However, we do not know if the large number of usage is due to one speaker. So we are going to investigate the distribution of occurence of these three forms in histogram. Of course, you could explore the distribution of other forms by plugging in the column name accordingly."
   ]
  },
  {
   "cell_type": "code",
   "execution_count": 147,
   "metadata": {},
   "outputs": [
    {
     "data": {
      "text/plain": [
       "[Text(0.5, 0, 'Number of times A7 is used'),\n",
       " Text(0, 0.5, 'Number of speakers'),\n",
       " Text(0.5, 1.0, 'Usage of A7')]"
      ]
     },
     "execution_count": 147,
     "metadata": {},
     "output_type": "execute_result"
    },
    {
     "data": {
      "image/png": "[encoded data removed]",
      "text/plain": [
       "<Figure size 640x480 with 1 Axes>"
      ]
     },
     "metadata": {},
     "output_type": "display_data"
    }
   ],
   "source": [
    "#Create a plot where we could see how many speakers use A7 for different number of times during the interview.  \n",
    "ax=merged_df['A7'].plot.hist(bins=14) \n",
    "# Please put the max number of usage into the bins = Max number, so that you can see clearly how many speakers use the form up to different number of times.\n",
    "# However, if the number of usage is huge, for example 100 times, then perhaps it is best to let the program to decide on the bins, so please delete the phrase bins=14.\n",
    "\n",
    "#Set the label on the chart to explain\n",
    "ax.set(xlabel='Number of times A7 is used', ylabel='Number of speakers',title=\"Usage of A7\")\n",
    "\n"
   ]
  },
  {
   "cell_type": "code",
   "execution_count": 148,
   "metadata": {},
   "outputs": [
    {
     "data": {
      "text/plain": [
       "[Text(0.5, 0, 'Number of times E7 is used'),\n",
       " Text(0, 0.5, 'Number of speakers'),\n",
       " Text(0.5, 1.0, 'Usage of E7')]"
      ]
     },
     "execution_count": 148,
     "metadata": {},
     "output_type": "execute_result"
    },
    {
     "data": {
      "image/png": "[encoded data removed]",
      "text/plain": [
       "<Figure size 640x480 with 1 Axes>"
      ]
     },
     "metadata": {},
     "output_type": "display_data"
    }
   ],
   "source": [
    "#Similar to the above, create a plot where we could see how many speakers use E7 for different number of times during the interview.  \n",
    "# the maximum number of E7 is 8, so we set bins=8\n",
    "ax=merged_df['E7'].plot.hist(bins=8)\n",
    "ax.set(xlabel='Number of times E7 is used', ylabel='Number of speakers',title=\"Usage of E7\")\n"
   ]
  },
  {
   "cell_type": "code",
   "execution_count": 149,
   "metadata": {},
   "outputs": [
    {
     "data": {
      "text/plain": [
       "[Text(0.5, 0, 'Number of times B7 is used'),\n",
       " Text(0, 0.5, 'Number of speakers'),\n",
       " Text(0.5, 1.0, 'Usage of B7')]"
      ]
     },
     "execution_count": 149,
     "metadata": {},
     "output_type": "execute_result"
    },
    {
     "data": {
      "image/png": "[encoded data removed]",
      "text/plain": [
       "<Figure size 640x480 with 1 Axes>"
      ]
     },
     "metadata": {},
     "output_type": "display_data"
    }
   ],
   "source": [
    "#Similar to the above, create a plot where we could see how many speakers use B7 for different number of times during the interview.  \n",
    "#Because the max number is only 5 and small, so we do not set the bins as the program will just run accordingly\n",
    "ax=merged_df['B7'].plot.hist()\n",
    "ax.set(xlabel='Number of times B7 is used', ylabel='Number of speakers',title=\"Usage of B7\")\n"
   ]
  },
  {
   "attachments": {},
   "cell_type": "markdown",
   "metadata": {},
   "source": [
    "### Observation\n",
    "Although compared to other forms of the term 'day', the large number of A7, E7, B7 seems to be related to a few individuals who use the form relatively often, while large number of speakers do not use them at all.\n",
    "We could extract the demographic data of these inviduals to understand their background too."
   ]
  },
  {
   "cell_type": "code",
   "execution_count": 150,
   "metadata": {},
   "outputs": [
    {
     "data": {
      "text/html": [
       "<div>\n",
       "<style scoped>\n",
       "    .dataframe tbody tr th:only-of-type {\n",
       "        vertical-align: middle;\n",
       "    }\n",
       "\n",
       "    .dataframe tbody tr th {\n",
       "        vertical-align: top;\n",
       "    }\n",
       "\n",
       "    .dataframe thead th {\n",
       "        text-align: right;\n",
       "    }\n",
       "</style>\n",
       "<table border=\"1\" class=\"dataframe\">\n",
       "  <thead>\n",
       "    <tr style=\"text-align: right;\">\n",
       "      <th></th>\n",
       "      <th>Religion</th>\n",
       "      <th>Gender</th>\n",
       "      <th>Age</th>\n",
       "      <th>Interview_Length</th>\n",
       "      <th>Village</th>\n",
       "      <th>A7</th>\n",
       "      <th>B7</th>\n",
       "      <th>C7</th>\n",
       "      <th>D7</th>\n",
       "      <th>E7</th>\n",
       "      <th>F7</th>\n",
       "      <th>G7</th>\n",
       "      <th>H7</th>\n",
       "      <th>I7</th>\n",
       "      <th>Total</th>\n",
       "    </tr>\n",
       "    <tr>\n",
       "      <th>Nid</th>\n",
       "      <th></th>\n",
       "      <th></th>\n",
       "      <th></th>\n",
       "      <th></th>\n",
       "      <th></th>\n",
       "      <th></th>\n",
       "      <th></th>\n",
       "      <th></th>\n",
       "      <th></th>\n",
       "      <th></th>\n",
       "      <th></th>\n",
       "      <th></th>\n",
       "      <th></th>\n",
       "      <th></th>\n",
       "      <th></th>\n",
       "    </tr>\n",
       "  </thead>\n",
       "  <tbody>\n",
       "    <tr>\n",
       "      <th>Tor1</th>\n",
       "      <td>Skotadi</td>\n",
       "      <td>Female</td>\n",
       "      <td>69</td>\n",
       "      <td>4</td>\n",
       "      <td>Temaiku</td>\n",
       "      <td>14</td>\n",
       "      <td>5</td>\n",
       "      <td>0</td>\n",
       "      <td>0</td>\n",
       "      <td>8</td>\n",
       "      <td>0</td>\n",
       "      <td>1</td>\n",
       "      <td>0</td>\n",
       "      <td>0</td>\n",
       "      <td>28</td>\n",
       "    </tr>\n",
       "  </tbody>\n",
       "</table>\n",
       "</div>"
      ],
      "text/plain": [
       "     Religion  Gender  Age  Interview_Length  Village  A7  B7  C7  D7  E7  F7  \\\n",
       "Nid                                                                             \n",
       "Tor1  Skotadi  Female   69                 4  Temaiku  14   5   0   0   8   0   \n",
       "\n",
       "      G7  H7  I7  Total  \n",
       "Nid                      \n",
       "Tor1   1   0   0     28  "
      ]
     },
     "execution_count": 150,
     "metadata": {},
     "output_type": "execute_result"
    }
   ],
   "source": [
    "#demographic data of the user who use A7 for 14 times. You could plug in different variables and number times to examine the others. \n",
    "merged_df[merged_df['A7']==14]"
   ]
  },
  {
   "cell_type": "code",
   "execution_count": 151,
   "metadata": {},
   "outputs": [
    {
     "data": {
      "text/html": [
       "<div>\n",
       "<style scoped>\n",
       "    .dataframe tbody tr th:only-of-type {\n",
       "        vertical-align: middle;\n",
       "    }\n",
       "\n",
       "    .dataframe tbody tr th {\n",
       "        vertical-align: top;\n",
       "    }\n",
       "\n",
       "    .dataframe thead th {\n",
       "        text-align: right;\n",
       "    }\n",
       "</style>\n",
       "<table border=\"1\" class=\"dataframe\">\n",
       "  <thead>\n",
       "    <tr style=\"text-align: right;\">\n",
       "      <th></th>\n",
       "      <th>Religion</th>\n",
       "      <th>Gender</th>\n",
       "      <th>Age</th>\n",
       "      <th>Interview_Length</th>\n",
       "      <th>Village</th>\n",
       "      <th>A7</th>\n",
       "      <th>B7</th>\n",
       "      <th>C7</th>\n",
       "      <th>D7</th>\n",
       "      <th>E7</th>\n",
       "      <th>F7</th>\n",
       "      <th>G7</th>\n",
       "      <th>H7</th>\n",
       "      <th>I7</th>\n",
       "      <th>Total</th>\n",
       "    </tr>\n",
       "    <tr>\n",
       "      <th>Nid</th>\n",
       "      <th></th>\n",
       "      <th></th>\n",
       "      <th></th>\n",
       "      <th></th>\n",
       "      <th></th>\n",
       "      <th></th>\n",
       "      <th></th>\n",
       "      <th></th>\n",
       "      <th></th>\n",
       "      <th></th>\n",
       "      <th></th>\n",
       "      <th></th>\n",
       "      <th></th>\n",
       "      <th></th>\n",
       "      <th></th>\n",
       "    </tr>\n",
       "  </thead>\n",
       "  <tbody>\n",
       "    <tr>\n",
       "      <th>RD1</th>\n",
       "      <td>Drepadian</td>\n",
       "      <td>Female</td>\n",
       "      <td>52</td>\n",
       "      <td>3</td>\n",
       "      <td>Rawannawi</td>\n",
       "      <td>11</td>\n",
       "      <td>2</td>\n",
       "      <td>1</td>\n",
       "      <td>0</td>\n",
       "      <td>8</td>\n",
       "      <td>0</td>\n",
       "      <td>0</td>\n",
       "      <td>0</td>\n",
       "      <td>0</td>\n",
       "      <td>22</td>\n",
       "    </tr>\n",
       "    <tr>\n",
       "      <th>Tor1</th>\n",
       "      <td>Skotadi</td>\n",
       "      <td>Female</td>\n",
       "      <td>69</td>\n",
       "      <td>4</td>\n",
       "      <td>Temaiku</td>\n",
       "      <td>14</td>\n",
       "      <td>5</td>\n",
       "      <td>0</td>\n",
       "      <td>0</td>\n",
       "      <td>8</td>\n",
       "      <td>0</td>\n",
       "      <td>1</td>\n",
       "      <td>0</td>\n",
       "      <td>0</td>\n",
       "      <td>28</td>\n",
       "    </tr>\n",
       "  </tbody>\n",
       "</table>\n",
       "</div>"
      ],
      "text/plain": [
       "       Religion  Gender  Age  Interview_Length    Village  A7  B7  C7  D7  E7  \\\n",
       "Nid                                                                             \n",
       "RD1   Drepadian  Female   52                 3  Rawannawi  11   2   1   0   8   \n",
       "Tor1    Skotadi  Female   69                 4    Temaiku  14   5   0   0   8   \n",
       "\n",
       "      F7  G7  H7  I7  Total  \n",
       "Nid                          \n",
       "RD1    0   0   0   0     22  \n",
       "Tor1   0   1   0   0     28  "
      ]
     },
     "execution_count": 151,
     "metadata": {},
     "output_type": "execute_result"
    }
   ],
   "source": [
    "#demographic data of the user\n",
    "merged_df[merged_df['E7']==8]"
   ]
  },
  {
   "cell_type": "code",
   "execution_count": 152,
   "metadata": {},
   "outputs": [
    {
     "data": {
      "text/html": [
       "<div>\n",
       "<style scoped>\n",
       "    .dataframe tbody tr th:only-of-type {\n",
       "        vertical-align: middle;\n",
       "    }\n",
       "\n",
       "    .dataframe tbody tr th {\n",
       "        vertical-align: top;\n",
       "    }\n",
       "\n",
       "    .dataframe thead th {\n",
       "        text-align: right;\n",
       "    }\n",
       "</style>\n",
       "<table border=\"1\" class=\"dataframe\">\n",
       "  <thead>\n",
       "    <tr style=\"text-align: right;\">\n",
       "      <th></th>\n",
       "      <th>Religion</th>\n",
       "      <th>Gender</th>\n",
       "      <th>Age</th>\n",
       "      <th>Interview_Length</th>\n",
       "      <th>Village</th>\n",
       "      <th>A7</th>\n",
       "      <th>B7</th>\n",
       "      <th>C7</th>\n",
       "      <th>D7</th>\n",
       "      <th>E7</th>\n",
       "      <th>F7</th>\n",
       "      <th>G7</th>\n",
       "      <th>H7</th>\n",
       "      <th>I7</th>\n",
       "      <th>Total</th>\n",
       "    </tr>\n",
       "    <tr>\n",
       "      <th>Nid</th>\n",
       "      <th></th>\n",
       "      <th></th>\n",
       "      <th></th>\n",
       "      <th></th>\n",
       "      <th></th>\n",
       "      <th></th>\n",
       "      <th></th>\n",
       "      <th></th>\n",
       "      <th></th>\n",
       "      <th></th>\n",
       "      <th></th>\n",
       "      <th></th>\n",
       "      <th></th>\n",
       "      <th></th>\n",
       "      <th></th>\n",
       "    </tr>\n",
       "  </thead>\n",
       "  <tbody>\n",
       "    <tr>\n",
       "      <th>T1</th>\n",
       "      <td>Drepadian</td>\n",
       "      <td>Male</td>\n",
       "      <td>66</td>\n",
       "      <td>3</td>\n",
       "      <td>Temaiku</td>\n",
       "      <td>6</td>\n",
       "      <td>5</td>\n",
       "      <td>0</td>\n",
       "      <td>0</td>\n",
       "      <td>0</td>\n",
       "      <td>0</td>\n",
       "      <td>1</td>\n",
       "      <td>0</td>\n",
       "      <td>0</td>\n",
       "      <td>12</td>\n",
       "    </tr>\n",
       "    <tr>\n",
       "      <th>Tor1</th>\n",
       "      <td>Skotadi</td>\n",
       "      <td>Female</td>\n",
       "      <td>69</td>\n",
       "      <td>4</td>\n",
       "      <td>Temaiku</td>\n",
       "      <td>14</td>\n",
       "      <td>5</td>\n",
       "      <td>0</td>\n",
       "      <td>0</td>\n",
       "      <td>8</td>\n",
       "      <td>0</td>\n",
       "      <td>1</td>\n",
       "      <td>0</td>\n",
       "      <td>0</td>\n",
       "      <td>28</td>\n",
       "    </tr>\n",
       "  </tbody>\n",
       "</table>\n",
       "</div>"
      ],
      "text/plain": [
       "       Religion  Gender  Age  Interview_Length  Village  A7  B7  C7  D7  E7  \\\n",
       "Nid                                                                           \n",
       "T1    Drepadian    Male   66                 3  Temaiku   6   5   0   0   0   \n",
       "Tor1    Skotadi  Female   69                 4  Temaiku  14   5   0   0   8   \n",
       "\n",
       "      F7  G7  H7  I7  Total  \n",
       "Nid                          \n",
       "T1     0   1   0   0     12  \n",
       "Tor1   0   1   0   0     28  "
      ]
     },
     "execution_count": 152,
     "metadata": {},
     "output_type": "execute_result"
    }
   ],
   "source": [
    "merged_df[merged_df['B7']==5]\n"
   ]
  },
  {
   "attachments": {},
   "cell_type": "markdown",
   "metadata": {},
   "source": [
    "### Observation\n",
    "It seems that Tor1 is the speaker who uses these three common forms most often while another two speakers also use E7 and B7 most often. "
   ]
  },
  {
   "attachments": {},
   "cell_type": "markdown",
   "metadata": {},
   "source": [
    "## Relationship betweeen demographic variables and the usage of the forms\n",
    "To examine the relationship, three analyses are conducted:\n",
    "1. Visualisation of the variables against each other to reveal any potential trends\n",
    "2. Tabulation of the variables showing the mean scores of usage to reveal any potential effects\n",
    "3. Logistic Regression to examine any statistically signifant predictors of the usage of the various forms \n",
    "\n",
    "*Note:* \n",
    "Due to time constraint, we only visualise and tabulate the relationship between the demographic variables and the usage of A7. You may change the variable name A7 to other form to examine the relationship.\n",
    "\n"
   ]
  },
  {
   "attachments": {},
   "cell_type": "markdown",
   "metadata": {},
   "source": [
    "### Visualisation\n",
    "\n",
    "Due to multiple demographic variables, we are not able to visualise the relationship between all the variables in relation to A7. So we are going to investigate the relationship by examining **Village** and **Religion** separately, while keeping Age and Gender in both investigation. As both Age and A7 can be considered continuous variables, so they can be presented in scatterplot on x-axia and y-axis, while the categorical variable Gender and Village/Religion will be presented in the scatterplot indicated by shape and colour respectively. \n",
    "\n",
    "We do not examine the length of interview in the visualisation because it is not demographic variables.\n",
    "\n",
    "*Note*\n",
    "Due to some technical problems and time constraint, I could not label the title, x-axis and y-axis properly. I will make note in each visualisation"
   ]
  },
  {
   "cell_type": "code",
   "execution_count": 153,
   "metadata": {},
   "outputs": [
    {
     "data": {
      "text/plain": [
       "[]"
      ]
     },
     "execution_count": 153,
     "metadata": {},
     "output_type": "execute_result"
    },
    {
     "data": {
      "image/png": "[encoded data removed]",
      "text/plain": [
       "<Figure size 800x400 with 1 Axes>"
      ]
     },
     "metadata": {},
     "output_type": "display_data"
    }
   ],
   "source": [
    "#Visualise Village, Age, Gender in relation to usage of A7\n",
    "\n",
    "plt.figure(figsize=(8,4))\n",
    "\n",
    "#plot the scatter plot for Female\n",
    "scatter_female = plt.scatter(merged_df.Age[merged_df['Gender']=='Female'], \n",
    "            merged_df.A7[merged_df['Gender']=='Female'],\n",
    "            c=merged_df.Village[merged_df['Gender']=='Female'].astype('category').cat.codes,marker='o',label='Female')\n",
    "#plot the scatter plot for Male\n",
    "scatter_male = plt.scatter(merged_df.Age[merged_df['Gender']=='Male'], \n",
    "            merged_df.A7[merged_df['Gender']=='Male'],\n",
    "            c=merged_df.Village[merged_df['Gender']=='Male'].astype('category').cat.codes,marker='v',label='Male')\n",
    "\n",
    "\n",
    "# add legend to the plot with names\n",
    "village_names = ['Bonriki','Nawerewere','Rawannawi','Temaiku']\n",
    "gender_name =['Female','Male']\n",
    "\n",
    "first_legend=plt.legend(handles=scatter_female.legend_elements()[0], loc=(1.04, 0),\n",
    "           labels=village_names,\n",
    "           title=\"Village\")\n",
    "plt.gca().add_artist(first_legend)\n",
    "\n",
    "\n",
    "\n",
    "plt.legend(loc=(1.04, 0.5), \n",
    "           labels=gender_name,\n",
    "           title=\"Gender\")\n",
    "\n",
    "\n",
    "\n",
    "plt.plot()\n",
    "\n"
   ]
  },
  {
   "attachments": {},
   "cell_type": "markdown",
   "metadata": {},
   "source": [
    "Chart Title: Usage of A7 in relation to Village, Gender, Age\n",
    "X-axis = Age\n",
    "Y-axis = Number of times A7 is used"
   ]
  },
  {
   "cell_type": "code",
   "execution_count": 154,
   "metadata": {},
   "outputs": [
    {
     "data": {
      "text/plain": [
       "[]"
      ]
     },
     "execution_count": 154,
     "metadata": {},
     "output_type": "execute_result"
    },
    {
     "data": {
      "image/png": "[encoded data removed]",
      "text/plain": [
       "<Figure size 800x400 with 1 Axes>"
      ]
     },
     "metadata": {},
     "output_type": "display_data"
    }
   ],
   "source": [
    "#Visualise Religion, Age, Gender in relation to usage of A7\n",
    "\n",
    "plt.figure(figsize=(8,4))\n",
    "\n",
    "\n",
    "#plot the scatter plot for Female\n",
    "scatter_female = plt.scatter(merged_df.Age[merged_df['Gender']=='Female'], \n",
    "            merged_df.A7[merged_df['Gender']=='Female'],\n",
    "            c=merged_df.Religion[merged_df['Gender']=='Female'].astype('category').cat.codes,marker='o',label='Female')\n",
    "#plot the scatter plot for Male\n",
    "scatter_male = plt.scatter(merged_df.Age[merged_df['Gender']=='Male'], \n",
    "            merged_df.A7[merged_df['Gender']=='Male'],\n",
    "            c=merged_df.Religion[merged_df['Gender']=='Male'].astype('category').cat.codes,marker='v',label='Male')\n",
    "\n",
    "# add legend to the plot with names\n",
    "religion_name = ['Drepadian','Skotadi','Thalassic']\n",
    "gender_name =['Female','Male']\n",
    "\n",
    "first_legend=plt.legend(handles=scatter_female.legend_elements()[0], loc=(1.04, 0),\n",
    "           labels=religion_name,\n",
    "           title=\"Religion\")\n",
    "plt.gca().add_artist(first_legend)\n",
    "\n",
    "plt.legend(loc=(1.04, 0.5), \n",
    "           labels=gender_name,\n",
    "           title=\"Gender\")\n",
    "plt.plot()"
   ]
  },
  {
   "attachments": {},
   "cell_type": "markdown",
   "metadata": {},
   "source": [
    "Chart Title: Usage of A7 in relation to Religion, Gender, Age\n",
    "X-axis = Age\n",
    "Y-axis = Number of times A7 is used"
   ]
  },
  {
   "attachments": {},
   "cell_type": "markdown",
   "metadata": {},
   "source": [
    "### Observation\n",
    "The visualisation does not show any clear relationship between the demographic variables and the usage of A7, except that in the second chart, it seems that some speakers from the Drepadian seem to use A7 form more. This can be further investigated in the logistic regression , which will be conducted later.\n",
    "\n",
    "\n",
    "\n"
   ]
  },
  {
   "attachments": {},
   "cell_type": "markdown",
   "metadata": {},
   "source": [
    "## Tabulation\n",
    "Although visualisation is sometimes useful to see the trend or patterns, personally, I actually sometimes prefer to tabulate data as it reduces any bias created by chart scale sometimes and allows me to see the real numbers. Here, I put all the categorical variables into a cross-tabulation, and calculate the mean number of usage of A7 in each condition. Nonetheless, because some condition only consists of one or two persons, the mean number of usage of A7 can be inflated by them."
   ]
  },
  {
   "cell_type": "code",
   "execution_count": 155,
   "metadata": {},
   "outputs": [
    {
     "data": {
      "text/html": [
       "<div>\n",
       "<style scoped>\n",
       "    .dataframe tbody tr th:only-of-type {\n",
       "        vertical-align: middle;\n",
       "    }\n",
       "\n",
       "    .dataframe tbody tr th {\n",
       "        vertical-align: top;\n",
       "    }\n",
       "\n",
       "    .dataframe thead tr th {\n",
       "        text-align: left;\n",
       "    }\n",
       "\n",
       "    .dataframe thead tr:last-of-type th {\n",
       "        text-align: right;\n",
       "    }\n",
       "</style>\n",
       "<table border=\"1\" class=\"dataframe\">\n",
       "  <thead>\n",
       "    <tr>\n",
       "      <th></th>\n",
       "      <th></th>\n",
       "      <th colspan=\"3\" halign=\"left\">mean</th>\n",
       "    </tr>\n",
       "    <tr>\n",
       "      <th></th>\n",
       "      <th>Religion</th>\n",
       "      <th>Drepadian</th>\n",
       "      <th>Skotadi</th>\n",
       "      <th>Thalassic</th>\n",
       "    </tr>\n",
       "    <tr>\n",
       "      <th>Village</th>\n",
       "      <th>Gender</th>\n",
       "      <th></th>\n",
       "      <th></th>\n",
       "      <th></th>\n",
       "    </tr>\n",
       "  </thead>\n",
       "  <tbody>\n",
       "    <tr>\n",
       "      <th rowspan=\"2\" valign=\"top\">Bonriki</th>\n",
       "      <th>Female</th>\n",
       "      <td>0.400000</td>\n",
       "      <td>0.250000</td>\n",
       "      <td>0.25</td>\n",
       "    </tr>\n",
       "    <tr>\n",
       "      <th>Male</th>\n",
       "      <td>1.000000</td>\n",
       "      <td>2.000000</td>\n",
       "      <td>0.50</td>\n",
       "    </tr>\n",
       "    <tr>\n",
       "      <th>Nawerewere</th>\n",
       "      <th>Female</th>\n",
       "      <td>1.333333</td>\n",
       "      <td>0.666667</td>\n",
       "      <td>NaN</td>\n",
       "    </tr>\n",
       "    <tr>\n",
       "      <th rowspan=\"2\" valign=\"top\">Rawannawi</th>\n",
       "      <th>Female</th>\n",
       "      <td>2.500000</td>\n",
       "      <td>NaN</td>\n",
       "      <td>NaN</td>\n",
       "    </tr>\n",
       "    <tr>\n",
       "      <th>Male</th>\n",
       "      <td>2.125000</td>\n",
       "      <td>NaN</td>\n",
       "      <td>NaN</td>\n",
       "    </tr>\n",
       "    <tr>\n",
       "      <th rowspan=\"2\" valign=\"top\">Temaiku</th>\n",
       "      <th>Female</th>\n",
       "      <td>1.500000</td>\n",
       "      <td>2.071429</td>\n",
       "      <td>NaN</td>\n",
       "    </tr>\n",
       "    <tr>\n",
       "      <th>Male</th>\n",
       "      <td>6.000000</td>\n",
       "      <td>1.333333</td>\n",
       "      <td>3.00</td>\n",
       "    </tr>\n",
       "  </tbody>\n",
       "</table>\n",
       "</div>"
      ],
      "text/plain": [
       "                       mean                    \n",
       "Religion          Drepadian   Skotadi Thalassic\n",
       "Village    Gender                              \n",
       "Bonriki    Female  0.400000  0.250000      0.25\n",
       "           Male    1.000000  2.000000      0.50\n",
       "Nawerewere Female  1.333333  0.666667       NaN\n",
       "Rawannawi  Female  2.500000       NaN       NaN\n",
       "           Male    2.125000       NaN       NaN\n",
       "Temaiku    Female  1.500000  2.071429       NaN\n",
       "           Male    6.000000  1.333333      3.00"
      ]
     },
     "execution_count": 155,
     "metadata": {},
     "output_type": "execute_result"
    }
   ],
   "source": [
    "crosstab_A7=pd.crosstab([merged_df['Village'],merged_df['Gender']],merged_df['Religion'],values=merged_df['A7'],aggfunc=[np.mean])\n",
    "crosstab_A7"
   ]
  },
  {
   "attachments": {},
   "cell_type": "markdown",
   "metadata": {},
   "source": [
    "### Observation\n",
    "\n",
    "It should be noted that, although the mean score of Male Drepadian from Temaiku is 6, it is only based on 1 person. This is similar to the mean score of 3 in the Male Thalassic from Temaiku.\n",
    "\n",
    "Nonetheless, from this tabulation, it seems Drepadian from Rawannawi on average use the A7 form more often, to some extent in line with what visualisation reveals above, that is, some Drepadian seems to use the form more often.   \n",
    "\n",
    "To further examine what is found in the visualisation and tabulation which is descriptive in nature, we now go into statistical modelling. "
   ]
  },
  {
   "attachments": {},
   "cell_type": "markdown",
   "metadata": {},
   "source": [
    "### Logistic Regression\n",
    "\n",
    "To explore the 'effect' of the demographic variables on the outcome variables, we could conduct statistical modelling to establish the relationship. \n",
    "\n",
    "I initially plan to conduct Poisson regression analysis to examine the relationship between the number of times a form is used and the demographic variables, because the outcome variable is count data. However, there are too many zeros and the relative small sample sizes led me wonder if it will work. I might need to investigate more for the zero-inflated version of the model and any adjustment required for the Poisson regression model. Given the constraint of time and my limited knowledge regarding this model, I decided to look for alternative model which is simpler and more parsimonious and easier to understand. Therefore, I resort to logistic regression. \n",
    "\n",
    "Logistic regression is an analysis model that investigates if some variables can predict the binary category of the outcome variables, and if the changes in those predictors will increase the probability of the outcome being one of the binary category. To conduct the logistic regression, the outcome variables need to be binary, for example Yes or No. To apply to the current study, we will need to transform the usage data into either the form is used, or the form is not used. As observed in the above histogram, because more than half of the users did not use the forms, and the usage frequency is relatively sparse, I transformed the data from frequency of usage of the form into whether a form is used (coded as 1) or is not used (coded as 0). I did not separate the data into training and testing set, as the dataset is small to start with and my purposes is to describe the current sample only. \n",
    "\n",
    "To examine if any of the demographic variables predict the usage of the various forms, I conduct three logistic regression models with usage of A7, E7 and B7 as the outcome variables. The other outcome variables seems to be at the floor, i.e., most speakers do not use it, so it might not be useful to conduct the analysis. Nonetheless, you can always run the logistic regression on other outcome variables by changing the variable names. \n",
    "\n"
   ]
  },
  {
   "cell_type": "code",
   "execution_count": 156,
   "metadata": {},
   "outputs": [
    {
     "data": {
      "text/plain": [
       "0    32\n",
       "1    30\n",
       "Name: A7_transformed, dtype: int64"
      ]
     },
     "execution_count": 156,
     "metadata": {},
     "output_type": "execute_result"
    }
   ],
   "source": [
    "#Transformed A7 into binary (0 vs 1)\n",
    "merged_df['A7_transformed']=0\n",
    "merged_df['A7_transformed'][merged_df['A7']>0]=1\n",
    "merged_df['A7_transformed'].value_counts()"
   ]
  },
  {
   "cell_type": "code",
   "execution_count": 157,
   "metadata": {},
   "outputs": [
    {
     "name": "stdout",
     "output_type": "stream",
     "text": [
      "Optimization terminated successfully.\n",
      "         Current function value: 0.534098\n",
      "         Iterations 6\n",
      "                           Logit Regression Results                           \n",
      "==============================================================================\n",
      "Dep. Variable:         A7_transformed   No. Observations:                   62\n",
      "Model:                          Logit   Df Residuals:                       54\n",
      "Method:                           MLE   Df Model:                            7\n",
      "Date:                Wed, 10 May 2023   Pseudo R-squ.:                  0.2289\n",
      "Time:                        16:10:33   Log-Likelihood:                -33.114\n",
      "converged:                       True   LL-Null:                       -42.943\n",
      "Covariance Type:            nonrobust   LLR p-value:                  0.006359\n",
      "=========================================================================================\n",
      "                            coef    std err          z      P>|z|      [0.025      0.975]\n",
      "-----------------------------------------------------------------------------------------\n",
      "Intercept                -4.0661      1.816     -2.239      0.025      -7.626      -0.506\n",
      "Village[T.Nawerewere]    -0.0810      1.259     -0.064      0.949      -2.548       2.387\n",
      "Village[T.Rawannawi]      0.8758      0.995      0.880      0.379      -1.074       2.825\n",
      "Village[T.Temaiku]        1.4440      0.875      1.651      0.099      -0.270       3.158\n",
      "Religion[T.Skotadi]      -0.6706      0.904     -0.741      0.458      -2.443       1.102\n",
      "Religion[T.Thalassic]     0.3736      1.143      0.327      0.744      -1.867       2.614\n",
      "Age                       0.0042      0.027      0.157      0.875      -0.048       0.056\n",
      "Interview_Length          1.3083      0.420      3.113      0.002       0.485       2.132\n",
      "=========================================================================================\n"
     ]
    }
   ],
   "source": [
    "#Conduct logistic regression\n",
    "model = smf.logit('A7_transformed ~ Village + Age + Religion + Interview_Length', data=merged_df).fit()\n",
    "print(model.summary())\n"
   ]
  },
  {
   "attachments": {},
   "cell_type": "markdown",
   "metadata": {},
   "source": [
    "### Observation\n",
    "The Pseudo R-squared \\(which indicates effect size\\) is relatively low (0.2289), suggesting that the model as a whole does not predict the use of A7 well, althogh the LLR p-value is less than 0.05, which suggests that the model is statistically significant in predicting the use of A7. \n",
    "\n",
    "When we look at the effect of individual predictors (the coef and P>|z| in the table), as expected, the length of interview significantly predict the likelihood of using A7 (p=0.002). The longer the interview, the more likely the form will be used. The effect of Temaiku is marginal, with p value =0.099, suggesting that being from Temaiku increases the likelihood of using A7. The positive sign in the coefficient means the change of the variable will increase the chance of using A7, while negative sign means the form is less likely to be used. "
   ]
  },
  {
   "cell_type": "code",
   "execution_count": 158,
   "metadata": {},
   "outputs": [
    {
     "name": "stdout",
     "output_type": "stream",
     "text": [
      "Optimization terminated successfully.\n",
      "         Current function value: 0.505920\n",
      "         Iterations 6\n",
      "                           Logit Regression Results                           \n",
      "==============================================================================\n",
      "Dep. Variable:         E7_transformed   No. Observations:                   62\n",
      "Model:                          Logit   Df Residuals:                       54\n",
      "Method:                           MLE   Df Model:                            7\n",
      "Date:                Wed, 10 May 2023   Pseudo R-squ.:                  0.1790\n",
      "Time:                        16:10:33   Log-Likelihood:                -31.367\n",
      "converged:                       True   LL-Null:                       -38.206\n",
      "Covariance Type:            nonrobust   LLR p-value:                   0.05720\n",
      "=========================================================================================\n",
      "                            coef    std err          z      P>|z|      [0.025      0.975]\n",
      "-----------------------------------------------------------------------------------------\n",
      "Intercept                -2.8465      1.827     -1.558      0.119      -6.427       0.734\n",
      "Village[T.Nawerewere]    -1.3357      1.552     -0.860      0.390      -4.378       1.707\n",
      "Village[T.Rawannawi]      0.9459      1.050      0.901      0.368      -1.112       3.004\n",
      "Village[T.Temaiku]        1.4897      0.987      1.509      0.131      -0.445       3.425\n",
      "Religion[T.Skotadi]      -1.1861      1.015     -1.168      0.243      -3.176       0.804\n",
      "Religion[T.Thalassic]    -0.9637      1.383     -0.697      0.486      -3.675       1.747\n",
      "Age                      -0.0171      0.027     -0.624      0.533      -0.071       0.037\n",
      "Interview_Length          1.1248      0.422      2.668      0.008       0.299       1.951\n",
      "=========================================================================================\n"
     ]
    }
   ],
   "source": [
    "#Conduct logistic regression with E7 as the outcome variable\n",
    "merged_df['E7_transformed']=0\n",
    "merged_df['E7_transformed'][merged_df['E7']>0]=1\n",
    "merged_df['E7_transformed'].value_counts()\n",
    "\n",
    "model = smf.logit('E7_transformed ~ Village + Age + Religion + Interview_Length', data=merged_df).fit()\n",
    "print(model.summary())"
   ]
  },
  {
   "cell_type": "code",
   "execution_count": 159,
   "metadata": {},
   "outputs": [
    {
     "name": "stdout",
     "output_type": "stream",
     "text": [
      "Optimization terminated successfully.\n",
      "         Current function value: 0.454625\n",
      "         Iterations 7\n",
      "                           Logit Regression Results                           \n",
      "==============================================================================\n",
      "Dep. Variable:         B7_transformed   No. Observations:                   62\n",
      "Model:                          Logit   Df Residuals:                       54\n",
      "Method:                           MLE   Df Model:                            7\n",
      "Date:                Wed, 10 May 2023   Pseudo R-squ.:                  0.2038\n",
      "Time:                        16:10:33   Log-Likelihood:                -28.187\n",
      "converged:                       True   LL-Null:                       -35.403\n",
      "Covariance Type:            nonrobust   LLR p-value:                   0.04399\n",
      "=========================================================================================\n",
      "                            coef    std err          z      P>|z|      [0.025      0.975]\n",
      "-----------------------------------------------------------------------------------------\n",
      "Intercept                -2.6497      1.979     -1.339      0.181      -6.528       1.228\n",
      "Village[T.Nawerewere]    -0.3115      1.352     -0.230      0.818      -2.962       2.339\n",
      "Village[T.Rawannawi]     -1.7583      1.338     -1.314      0.189      -4.381       0.864\n",
      "Village[T.Temaiku]        1.0854      0.934      1.162      0.245      -0.746       2.916\n",
      "Religion[T.Skotadi]      -1.4095      0.969     -1.454      0.146      -3.310       0.490\n",
      "Religion[T.Thalassic]     0.5124      1.107      0.463      0.644      -1.658       2.683\n",
      "Age                      -0.0136      0.030     -0.456      0.648      -0.072       0.045\n",
      "Interview_Length          1.0742      0.473      2.273      0.023       0.148       2.000\n",
      "=========================================================================================\n"
     ]
    }
   ],
   "source": [
    "#Conduct logistic regression with B7 as the outcome variable\n",
    "merged_df['B7_transformed']=0\n",
    "merged_df['B7_transformed'][merged_df['B7']>0]=1\n",
    "merged_df['B7_transformed'].value_counts()\n",
    "\n",
    "model = smf.logit('B7_transformed ~ Village + Age + Religion + Interview_Length', data=merged_df).fit()\n",
    "print(model.summary())"
   ]
  },
  {
   "attachments": {},
   "cell_type": "markdown",
   "metadata": {},
   "source": [
    "### Observation\n",
    "These two models are similar to the logistic model predicting A7 usage, with only the length of interview significant in predicting the outcome. It is as expected, as the longer the interview, the more chance that a form can be used. Nonetheless, it does not necessarily mean that the other predictors are not related to the usage of the three forms. It could simply due to limited sample size and small effect sizes could not be detected in this sample. \n",
    "\n"
   ]
  },
  {
   "attachments": {},
   "cell_type": "markdown",
   "metadata": {},
   "source": [
    "## Steps to ensure FAIR open research principles\n",
    "In this exercise, I consider the FAIR open research principles from two perspectives, i.e., from the machine and human, as well as in two areas of applications, i.e., data and analysis procedure. Among the four principles, I overlook 'Findability' as I did not share the data set and notebook in the public repository as I do not own the data. The other three principles Accessibility, Interoperability, Reusability are discussed below. In this exercise, I focus more on human rather than machine, and analysis more than data. This is because my client is a researcher who aims for analysis, so I would need to prioritize them.\n",
    "\n",
    "1. **Accessibility** \n",
    "As mentioned earlier, I do not focus on the accessibility of the data. However, in the description, I do inclue the information of the data sets used as well as the entity which provides the data. Therefore, others would be able to know what kind of (meta)data is used in this analysis and whom to contact to access the data. In terms of this analysis procedure, I most likely will make it public on my github, so it is accessible to others, although I may need to create some metadata to describe this notebook to make it accessible and findable. \n",
    "\n",
    "2. **Interoperability & Reusability**\n",
    "The analysis is conducted by using Python language and libraries which are common for data analysis. Furthermore, I also include code for installing relevant libraries for those who don't use jupyter notebook on Ananconda. Nonetheless, the interoperability of this analysis can be further improved by including other common software code such as R. For the analysis procedure to be operable for different data files and variables, I indicate in comments how to change the code and the data structure. This also makes the analysis procedure reusable. "
   ]
  }
 ],
 "metadata": {
  "kernelspec": {
   "display_name": "Python 3",
   "language": "python",
   "name": "python3"
  },
  "language_info": {
   "codemirror_mode": {
    "name": "ipython",
    "version": 3
   },
   "file_extension": ".py",
   "mimetype": "text/x-python",
   "name": "python",
   "nbconvert_exporter": "python",
   "pygments_lexer": "ipython3",
   "version": "3.10.6"
  },
  "orig_nbformat": 4
 },
 "nbformat": 4,
 "nbformat_minor": 2
}
